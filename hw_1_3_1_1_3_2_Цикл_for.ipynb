{
 "cells": [
  {
   "cell_type": "markdown",
   "metadata": {
    "id": "W8lqt6zd9axA"
   },
   "source": [
    "#Домашнє завдання до теми \"Цикл for\""
   ]
  },
  {
   "cell_type": "markdown",
   "metadata": {
    "id": "iXzoNTu604kH"
   },
   "source": [
    "0. Розігрів. Напишіть цикл, який виводить на екран числа від 1 до 10 включно."
   ]
  },
  {
   "cell_type": "code",
   "execution_count": 1,
   "metadata": {
    "execution": {
     "iopub.execute_input": "2025-07-05T12:45:51.726030Z",
     "iopub.status.busy": "2025-07-05T12:45:51.725544Z",
     "iopub.status.idle": "2025-07-05T12:45:51.731014Z",
     "shell.execute_reply": "2025-07-05T12:45:51.730379Z",
     "shell.execute_reply.started": "2025-07-05T12:45:51.725999Z"
    },
    "id": "zpwypSSp0MVm"
   },
   "outputs": [
    {
     "name": "stdout",
     "output_type": "stream",
     "text": [
      "1 2 3 4 5 6 7 8 9 10 "
     ]
    }
   ],
   "source": [
    "for i in range(1,11):\n",
    "    print(i, end=\" \")"
   ]
  },
  {
   "cell_type": "markdown",
   "metadata": {
    "id": "JmWR8uze094H"
   },
   "source": [
    "**Початок покладено!**"
   ]
  },
  {
   "cell_type": "markdown",
   "metadata": {
    "id": "OJX3yG-Blplu"
   },
   "source": [
    "1. Задайте список `numbers`, який містить значення від 0 до 9 включно. Використовуючи цикл `for`, обчисліть суму елементів в створеному списку та виведіть фінальну суму на екран."
   ]
  },
  {
   "cell_type": "code",
   "execution_count": 2,
   "metadata": {
    "execution": {
     "iopub.execute_input": "2025-07-05T12:45:55.255058Z",
     "iopub.status.busy": "2025-07-05T12:45:55.254243Z",
     "iopub.status.idle": "2025-07-05T12:45:55.259065Z",
     "shell.execute_reply": "2025-07-05T12:45:55.258017Z",
     "shell.execute_reply.started": "2025-07-05T12:45:55.255014Z"
    },
    "id": "sSX30A5yuvUQ"
   },
   "outputs": [],
   "source": [
    "numbers = list(range(10))"
   ]
  },
  {
   "cell_type": "code",
   "execution_count": 3,
   "metadata": {
    "execution": {
     "iopub.execute_input": "2025-07-05T12:45:56.261761Z",
     "iopub.status.busy": "2025-07-05T12:45:56.261186Z",
     "iopub.status.idle": "2025-07-05T12:45:56.268966Z",
     "shell.execute_reply": "2025-07-05T12:45:56.267960Z",
     "shell.execute_reply.started": "2025-07-05T12:45:56.261741Z"
    }
   },
   "outputs": [
    {
     "data": {
      "text/plain": [
       "[0, 1, 2, 3, 4, 5, 6, 7, 8, 9]"
      ]
     },
     "execution_count": 3,
     "metadata": {},
     "output_type": "execute_result"
    }
   ],
   "source": [
    "numbers"
   ]
  },
  {
   "cell_type": "code",
   "execution_count": 4,
   "metadata": {
    "execution": {
     "iopub.execute_input": "2025-07-05T12:46:02.380101Z",
     "iopub.status.busy": "2025-07-05T12:46:02.379769Z",
     "iopub.status.idle": "2025-07-05T12:46:02.384912Z",
     "shell.execute_reply": "2025-07-05T12:46:02.383888Z",
     "shell.execute_reply.started": "2025-07-05T12:46:02.380082Z"
    }
   },
   "outputs": [
    {
     "name": "stdout",
     "output_type": "stream",
     "text": [
      "45\n"
     ]
    }
   ],
   "source": [
    "for number in numbers:\n",
    "    total = sum(numbers)\n",
    "print(total)"
   ]
  },
  {
   "cell_type": "markdown",
   "metadata": {
    "id": "6Tb2Kx_jmD5b"
   },
   "source": [
    "2. Використовуючи цикл  `for` виведіть для кожного елементу списку `numbers`,який ми створили в завданні 1, чи цей елемент дорівнює 5. Тобто після виконання циклу на екрані має бути 10 bool значень."
   ]
  },
  {
   "cell_type": "code",
   "execution_count": 7,
   "metadata": {
    "execution": {
     "iopub.execute_input": "2025-07-05T12:50:48.231843Z",
     "iopub.status.busy": "2025-07-05T12:50:48.231322Z",
     "iopub.status.idle": "2025-07-05T12:50:48.236959Z",
     "shell.execute_reply": "2025-07-05T12:50:48.235992Z",
     "shell.execute_reply.started": "2025-07-05T12:50:48.231824Z"
    },
    "id": "Ls8ZW8DWuwHC"
   },
   "outputs": [
    {
     "name": "stdout",
     "output_type": "stream",
     "text": [
      "False\n",
      "False\n",
      "False\n",
      "False\n",
      "False\n",
      "True\n",
      "False\n",
      "False\n",
      "False\n",
      "False\n"
     ]
    }
   ],
   "source": [
    "for number in numbers: \n",
    " check = (number == 5)\n",
    " print (check)"
   ]
  },
  {
   "cell_type": "markdown",
   "metadata": {
    "id": "ddFE1naOmp7Q"
   },
   "source": [
    "3. Використовуючи цикл  `for` для кожного елементу списку `numbers`, який ми створили в завданні 1, виявіть, чи цей елемент ділиться на 2 без остачі, та запишіть результат у новий список `numbers_divisible_by_2`.\n",
    "\n",
    "Увага! Виконання завдання відрізняється від попереднього тим, що тепер ми результат обчислення на кожній ітерації записуємо у новий список. До того ж ми тут виконуємо іншу математичну операцію.\n",
    "\n",
    "Виведіть фільнальний список `numbers_divisible_by_2` на екран."
   ]
  },
  {
   "cell_type": "code",
   "execution_count": 15,
   "metadata": {
    "execution": {
     "iopub.execute_input": "2025-07-05T16:14:27.723206Z",
     "iopub.status.busy": "2025-07-05T16:14:27.722691Z",
     "iopub.status.idle": "2025-07-05T16:14:27.728383Z",
     "shell.execute_reply": "2025-07-05T16:14:27.727446Z",
     "shell.execute_reply.started": "2025-07-05T16:14:27.723184Z"
    },
    "id": "S2Pk_W12uyDo"
   },
   "outputs": [
    {
     "name": "stdout",
     "output_type": "stream",
     "text": [
      "[True, False, True, False, True, False, True, False, True, False]\n"
     ]
    }
   ],
   "source": [
    "numbers_divisible_by_2 = [number % 2 == 0 for number in numbers]\n",
    "print(numbers_divisible_by_2)"
   ]
  },
  {
   "cell_type": "markdown",
   "metadata": {
    "id": "cwvpWeVGnUGB"
   },
   "source": [
    "Очікуваний результат: `[True, False, True, False, True, False, True, False, True, False]`"
   ]
  },
  {
   "cell_type": "markdown",
   "metadata": {
    "id": "0rgeGpJ3utVN"
   },
   "source": [
    "4. Задано два списки в клітинці нижче - `a` і `b`. Створіть цикл, результатом якого буде список `result`, що містить елементи типу bool і який фактично каже,\n",
    "\"чи на цьому індексі елементи наших двох списків співпадають\". Приклад:\n",
    "```\n",
    "a = [1, 2, 3, 6]\n",
    "b = [1, 7, 3, 6]\n",
    "# ми виконали поелементне порівняння двох списків і отримали новий список result\n",
    "# result містить наступний результат -> [True, False, True, True]\n",
    "```\n",
    "В кінці виведіть вміст result на екран.\n",
    "\n",
    "<details>\n",
    "<summary>Підказка</summary>\n",
    "\n",
    "Аби порівняти елементи в циклі - треба створити цикл по індексам елементів. Зважаючи, що наші списки - одної довжини, цей підхід дозволить нам отримати чітко те, що треба.\n",
    "\n",
    "**Просунутий варіант.** Альтернативно можна створити цикл, який на кожній ітерації має доступ до двох елементів - по одному з кожного списка, для цього треба скористатись функцією `zip` - приклад [тут](https://realpython.com/python-zip-function/#traversing-lists-in-parallel)\n",
    "</details>\n"
   ]
  },
  {
   "cell_type": "code",
   "execution_count": 16,
   "metadata": {
    "execution": {
     "iopub.execute_input": "2025-07-05T16:15:42.005847Z",
     "iopub.status.busy": "2025-07-05T16:15:42.005207Z",
     "iopub.status.idle": "2025-07-05T16:15:42.011116Z",
     "shell.execute_reply": "2025-07-05T16:15:42.010219Z",
     "shell.execute_reply.started": "2025-07-05T16:15:42.005827Z"
    },
    "id": "IIYG41pWdJiG"
   },
   "outputs": [],
   "source": [
    "a = [64, 93, 60, 95, 66, 9, 15, 55, 77, 28, 74, 100, 13, 1, 85, 48, 66, 65, 59, 32]\n",
    "b = [64, 93, 60, 95, 66, 9, 15, 56, 77, 28, 74, 100, 13, 1, 85, 48, 67, 65, 59, 32]"
   ]
  },
  {
   "cell_type": "code",
   "execution_count": 25,
   "metadata": {
    "execution": {
     "iopub.execute_input": "2025-07-05T16:23:58.907457Z",
     "iopub.status.busy": "2025-07-05T16:23:58.906872Z",
     "iopub.status.idle": "2025-07-05T16:23:58.913772Z",
     "shell.execute_reply": "2025-07-05T16:23:58.912690Z",
     "shell.execute_reply.started": "2025-07-05T16:23:58.907436Z"
    },
    "id": "XgZwTwr4u2lA"
   },
   "outputs": [
    {
     "name": "stdout",
     "output_type": "stream",
     "text": [
      "[True, True, True, True, True, True, True, False, True, True, True, True, True, True, True, True, False, True, True, True]\n"
     ]
    }
   ],
   "source": [
    "result = [anumber == bnumber for anumber, bnumber in zip(a,b)]\n",
    "print(result)"
   ]
  },
  {
   "cell_type": "markdown",
   "metadata": {
    "id": "0Z2cObcTutVO"
   },
   "source": [
    "5. Нижче задано список `numbers`. Виконайте клітинку з його заданням.\n",
    "\n",
    "  Давайте знайдемо середнє арифметичне значення елементів списку `numbers` округлене до 2 цифр після коми та запишемо його у змінну `numbers_mean`. Для цього виконаємо два простих кроки.\n",
    "\n",
    "  1) Знайдіть суму всіх елементів списку `numbers` та запишіть її у змінну `numbers_sum`. Можна з використанням циклу, а можна і без.\n",
    "\n",
    "  2) Обчисліть `numbers_mean` шляхом ділення суми елементів у списку на їх кількість. Кількість елементів в списку - це його довжина.\n",
    "\n",
    "  Виведіть `numbers_mean`, округлений до 2 цифр після коми, на екран.\n",
    "\n",
    "  **Підказка**: округлити число можна з використанням вбудованої функції Python [round()](https://docs.python.org/3/library/functions.html#round)."
   ]
  },
  {
   "cell_type": "code",
   "execution_count": 26,
   "metadata": {
    "execution": {
     "iopub.execute_input": "2025-07-05T16:24:39.977811Z",
     "iopub.status.busy": "2025-07-05T16:24:39.977078Z",
     "iopub.status.idle": "2025-07-05T16:24:39.981970Z",
     "shell.execute_reply": "2025-07-05T16:24:39.981133Z",
     "shell.execute_reply.started": "2025-07-05T16:24:39.977789Z"
    },
    "id": "TwuOmLpeutVO"
   },
   "outputs": [],
   "source": [
    "numbers = [42, 51, 29, 2, 13, 44, 80, 66, 16]"
   ]
  },
  {
   "cell_type": "code",
   "execution_count": 30,
   "metadata": {
    "execution": {
     "iopub.execute_input": "2025-07-05T16:25:59.406208Z",
     "iopub.status.busy": "2025-07-05T16:25:59.405821Z",
     "iopub.status.idle": "2025-07-05T16:25:59.411535Z",
     "shell.execute_reply": "2025-07-05T16:25:59.410577Z",
     "shell.execute_reply.started": "2025-07-05T16:25:59.406186Z"
    },
    "id": "R-qDvKVcu6e1"
   },
   "outputs": [
    {
     "data": {
      "text/plain": [
       "343"
      ]
     },
     "execution_count": 30,
     "metadata": {},
     "output_type": "execute_result"
    }
   ],
   "source": [
    "numbers_sum = sum(numbers)\n",
    "numbers_sum"
   ]
  },
  {
   "cell_type": "code",
   "execution_count": 31,
   "metadata": {
    "execution": {
     "iopub.execute_input": "2025-07-05T16:27:18.995499Z",
     "iopub.status.busy": "2025-07-05T16:27:18.995048Z",
     "iopub.status.idle": "2025-07-05T16:27:19.000343Z",
     "shell.execute_reply": "2025-07-05T16:27:18.999586Z",
     "shell.execute_reply.started": "2025-07-05T16:27:18.995475Z"
    }
   },
   "outputs": [
    {
     "data": {
      "text/plain": [
       "38.11"
      ]
     },
     "execution_count": 31,
     "metadata": {},
     "output_type": "execute_result"
    }
   ],
   "source": [
    "numbers_mean = round(numbers_sum / len(numbers),2)\n",
    "numbers_mean"
   ]
  },
  {
   "cell_type": "markdown",
   "metadata": {
    "id": "pSdssHuuutVQ"
   },
   "source": [
    "Очікуваний результат: `38.11`"
   ]
  },
  {
   "cell_type": "markdown",
   "metadata": {
    "id": "JsevSvVtutVQ"
   },
   "source": [
    "6. Задано список `a` і елемент `element`. Перевірте програмно чи є в списку `a` елемент `element` з допомогою інструкцій `if ... else`. Виведіть на екран відповідь \"Так, є\", якщо цей елемент в списку присутній, або \"Ні, нема\", якщо його там немає.\n",
    "Важливо це зробити без використання імпортів будь-яких бібліотек.\n",
    "\n",
    "  Тут цикла немає :) Але це завдання - підготовче до наступного."
   ]
  },
  {
   "cell_type": "code",
   "execution_count": 33,
   "metadata": {
    "execution": {
     "iopub.execute_input": "2025-07-05T16:27:37.657338Z",
     "iopub.status.busy": "2025-07-05T16:27:37.656893Z",
     "iopub.status.idle": "2025-07-05T16:27:37.662852Z",
     "shell.execute_reply": "2025-07-05T16:27:37.661748Z",
     "shell.execute_reply.started": "2025-07-05T16:27:37.657320Z"
    },
    "id": "TqkTdlN_utVQ"
   },
   "outputs": [],
   "source": [
    "a = [64, 93, 60, 95, 66, 9, 15, 55, 77, 28, 74, 100, 13, 1, 85, 48, 66, 65, 59, 32]\n",
    "element = 33"
   ]
  },
  {
   "cell_type": "code",
   "execution_count": 35,
   "metadata": {
    "execution": {
     "iopub.execute_input": "2025-07-05T16:31:05.124282Z",
     "iopub.status.busy": "2025-07-05T16:31:05.123985Z",
     "iopub.status.idle": "2025-07-05T16:31:05.137486Z",
     "shell.execute_reply": "2025-07-05T16:31:05.136568Z",
     "shell.execute_reply.started": "2025-07-05T16:31:05.124265Z"
    },
    "id": "aL_76T8pu7fp"
   },
   "outputs": [
    {
     "name": "stdout",
     "output_type": "stream",
     "text": [
      "Ні, нема\n"
     ]
    }
   ],
   "source": [
    "if element in a: \n",
    "    print('Так, є')\n",
    "else:\n",
    "    print('Ні, нема')"
   ]
  },
  {
   "cell_type": "markdown",
   "metadata": {
    "id": "QKjmv4j0utVR"
   },
   "source": [
    "7. Тепер у нас не один елемент, а кілька. Вони наведені в змінній `elements`. За допомогою циклу і інструкцій `if ... else` для кожного елемента списку `elements` перевірте, чи він є в списку `a`.\n",
    "Виведіть на екран відповідь \"Так, є елемент <вставити значення елемента>\", якщо елемент в списку присутній, або \"Ні, нема елемента <вставити значення елемента>\", якщо його там немає."
   ]
  },
  {
   "cell_type": "code",
   "execution_count": 36,
   "metadata": {
    "execution": {
     "iopub.execute_input": "2025-07-05T16:31:18.273568Z",
     "iopub.status.busy": "2025-07-05T16:31:18.273074Z",
     "iopub.status.idle": "2025-07-05T16:31:18.278876Z",
     "shell.execute_reply": "2025-07-05T16:31:18.277975Z",
     "shell.execute_reply.started": "2025-07-05T16:31:18.273550Z"
    },
    "id": "TF3nT5TMutVR"
   },
   "outputs": [],
   "source": [
    "elements = [44, 66, 77, 100]"
   ]
  },
  {
   "cell_type": "code",
   "execution_count": 47,
   "metadata": {
    "execution": {
     "iopub.execute_input": "2025-07-05T16:38:36.082820Z",
     "iopub.status.busy": "2025-07-05T16:38:36.082524Z",
     "iopub.status.idle": "2025-07-05T16:38:36.087592Z",
     "shell.execute_reply": "2025-07-05T16:38:36.086835Z",
     "shell.execute_reply.started": "2025-07-05T16:38:36.082802Z"
    },
    "id": "pQD5InOQvG1d"
   },
   "outputs": [
    {
     "name": "stdout",
     "output_type": "stream",
     "text": [
      "Так, є елемент - 66\n",
      "Так, є елемент - 77\n",
      "Так, є елемент - 100\n",
      "Ні, нема елемента - 100\n"
     ]
    }
   ],
   "source": [
    "for element in elements:\n",
    " if element in a: \n",
    "    print(f\"Так, є елемент - {element}\")\n",
    "else:\n",
    "    print (f\"Ні, нема елемента - {element}\")"
   ]
  }
 ],
 "metadata": {
  "colab": {
   "provenance": []
  },
  "kernelspec": {
   "display_name": "Python 3 (ipykernel)",
   "language": "python",
   "name": "python3"
  },
  "language_info": {
   "codemirror_mode": {
    "name": "ipython",
    "version": 3
   },
   "file_extension": ".py",
   "mimetype": "text/x-python",
   "name": "python",
   "nbconvert_exporter": "python",
   "pygments_lexer": "ipython3",
   "version": "3.13.4"
  }
 },
 "nbformat": 4,
 "nbformat_minor": 4
}
