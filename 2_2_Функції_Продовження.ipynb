{
 "cells": [
  {
   "cell_type": "markdown",
   "id": "981d9265",
   "metadata": {
    "id": "981d9265"
   },
   "source": [
    "# Домашнє завдання до теми \"Functions\"\n",
    "В цьому домашньому завданні в деяких задачах є частини коду, та в кожному завданні описано, що з ними треба зробити, часто - просто виконати після того, як ви напишете частину, якої поки не вистачає. Пишіть, будь ласка, код, який реалізує рішення кожного завдання, безпосереньо під формулюванням завдання, створюючи нові клітинки. Можете створювати скільки завгодно клітинок для виконання одного завдання."
   ]
  },
  {
   "cell_type": "markdown",
   "id": "eb55a967",
   "metadata": {
    "id": "eb55a967"
   },
   "source": [
    "1. Напишіть функцію `is_even`, яка для заданого числа визначає, чи воно є парним (тобто ділиться на 2 без остачі, наприклад 4, 10, 102). Функція має вертати результат типу bool.\n",
    "Продемонструйте результати робити функції запустивши код нижче."
   ]
  },
  {
   "cell_type": "code",
   "execution_count": 5,
   "id": "66e68f7a",
   "metadata": {
    "ExecuteTime": {
     "end_time": "2023-06-13T09:48:47.072569Z",
     "start_time": "2023-06-13T09:48:47.068977Z"
    },
    "execution": {
     "iopub.execute_input": "2025-07-06T16:35:07.762265Z",
     "iopub.status.busy": "2025-07-06T16:35:07.761742Z",
     "iopub.status.idle": "2025-07-06T16:35:07.766342Z",
     "shell.execute_reply": "2025-07-06T16:35:07.765541Z",
     "shell.execute_reply.started": "2025-07-06T16:35:07.762235Z"
    },
    "id": "66e68f7a"
   },
   "outputs": [],
   "source": [
    "def is_even(x) -> bool:\n",
    " return x % 2 == 0"
   ]
  },
  {
   "cell_type": "code",
   "execution_count": 6,
   "id": "c60e04d1",
   "metadata": {
    "ExecuteTime": {
     "end_time": "2023-06-13T09:51:03.574283Z",
     "start_time": "2023-06-13T09:51:03.568715Z"
    },
    "execution": {
     "iopub.execute_input": "2025-07-06T16:35:29.417480Z",
     "iopub.status.busy": "2025-07-06T16:35:29.416988Z",
     "iopub.status.idle": "2025-07-06T16:35:29.425242Z",
     "shell.execute_reply": "2025-07-06T16:35:29.424286Z",
     "shell.execute_reply.started": "2025-07-06T16:35:29.417461Z"
    },
    "id": "c60e04d1"
   },
   "outputs": [
    {
     "data": {
      "text/plain": [
       "[False, True, False, False, True]"
      ]
     },
     "execution_count": 6,
     "metadata": {},
     "output_type": "execute_result"
    }
   ],
   "source": [
    "[is_even(digit) for digit in [101, 2002, 3043, 5015, 8222]]"
   ]
  },
  {
   "cell_type": "markdown",
   "id": "xPlxqkpyFkti",
   "metadata": {
    "id": "xPlxqkpyFkti"
   },
   "source": [
    "2. Створіть функцію `sum_numbers`, яка приймає довільну кількість числових аргументів і повертає їх суму. Функція повинна працювати з будь-якою кількістю числових аргументів, включаючи випадки, коли аргументів немає.\n",
    "\n",
    "  **Приклади виклику функції:**\n",
    "\n",
    "  1. `sum_numbers(1, 2, 3, 4)` повинно повернути `10`.\n",
    "  2. `sum_numbers(10, 20)` повинно повернути `30`.\n",
    "  3. `sum_numbers()` повинно повернути `0`.\n",
    "\n",
    "  **Вимоги до реалізації:**\n",
    "\n",
    "  - Функція має використовувати `*args` для прийому довільної кількості аргументів.\n",
    "  - Функція має правильно обробляти випадок, коли їй не передано жодного аргумента.\n",
    "\n",
    "  Продемонструйте результати робити функції запустивши її на наведених наборах нижче."
   ]
  },
  {
   "cell_type": "code",
   "execution_count": 13,
   "id": "WjjXB8MqK5Kt",
   "metadata": {
    "execution": {
     "iopub.execute_input": "2025-07-06T16:46:47.378705Z",
     "iopub.status.busy": "2025-07-06T16:46:47.378103Z",
     "iopub.status.idle": "2025-07-06T16:46:47.382996Z",
     "shell.execute_reply": "2025-07-06T16:46:47.381771Z",
     "shell.execute_reply.started": "2025-07-06T16:46:47.378675Z"
    },
    "id": "WjjXB8MqK5Kt"
   },
   "outputs": [],
   "source": [
    "def sum_numbers(*args):\n",
    " return sum(args)"
   ]
  },
  {
   "cell_type": "code",
   "execution_count": 14,
   "id": "TyQnD-d1GNOM",
   "metadata": {
    "execution": {
     "iopub.execute_input": "2025-07-06T16:46:48.315307Z",
     "iopub.status.busy": "2025-07-06T16:46:48.314748Z",
     "iopub.status.idle": "2025-07-06T16:46:48.319688Z",
     "shell.execute_reply": "2025-07-06T16:46:48.318556Z",
     "shell.execute_reply.started": "2025-07-06T16:46:48.315287Z"
    },
    "id": "TyQnD-d1GNOM"
   },
   "outputs": [],
   "source": [
    "number_sets = [\n",
    "    (1, 2, 3, 4),\n",
    "    (10, 20),\n",
    "    (11, 12, 13),\n",
    "    (),\n",
    "    (-19, -164, 183)\n",
    "]"
   ]
  },
  {
   "cell_type": "code",
   "execution_count": 15,
   "id": "S_z07TQVLCQT",
   "metadata": {
    "execution": {
     "iopub.execute_input": "2025-07-06T16:46:48.939120Z",
     "iopub.status.busy": "2025-07-06T16:46:48.938611Z",
     "iopub.status.idle": "2025-07-06T16:46:48.943846Z",
     "shell.execute_reply": "2025-07-06T16:46:48.943106Z",
     "shell.execute_reply.started": "2025-07-06T16:46:48.939103Z"
    },
    "id": "S_z07TQVLCQT"
   },
   "outputs": [
    {
     "name": "stdout",
     "output_type": "stream",
     "text": [
      "10\n",
      "30\n",
      "36\n",
      "0\n",
      "0\n"
     ]
    }
   ],
   "source": [
    "for number in number_sets:\n",
    " result = sum_numbers(*number)\n",
    " print(result)"
   ]
  },
  {
   "cell_type": "markdown",
   "id": "d1769a5b",
   "metadata": {
    "id": "d1769a5b"
   },
   "source": [
    "3. **Завдання на рефакторинг: Обчислення Індексу Маси Тіла (BMI).** Рефакторинг - стандартна практика при роботі зі своїм, чи чужим кодом в компанії. Тут ми дізнаємось, що це і попрактикуємось це робити.\n",
    "\n",
    "  У вашому розпорядженні є фрагмент коду, який обчислює [індекс маси тіла (BMI)](https://uk.wikipedia.org/wiki/%D0%86%D0%BD%D0%B4%D0%B5%D0%BA%D1%81_%D0%BC%D0%B0%D1%81%D0%B8_%D1%82%D1%96%D0%BB%D0%B0#:~:text=%D0%86%CC%81%D0%BD%D0%B4%D0%B5%D0%BA%D1%81%20%D0%BC%D0%B0%CC%81%D1%81%D0%B8%20%D1%82%D1%96%CC%81%D0%BB%D0%B0%20(%D0%86%D0%9C%D0%A2%2C%20%D0%B0%D0%BD%D0%B3%D0%BB,%D0%BD%D0%BE%D1%80%D0%BC%D0%B0%D0%BB%D1%8C%D0%BD%D0%BE%D1%8E%2C%20%D0%BD%D0%B0%D0%B4%D0%BC%D1%96%D1%80%D0%BD%D0%BE%D1%8E%20(%D0%BE%D0%B6%D0%B8%D1%80%D1%96%D0%BD%D0%BD%D1%8F%D0%BC) для п'яти осіб. Ваше завдання - рефакторити цей код, тобто оптимізувати його вигляд, виокремивши повторювані частини в окрему функцію. Мета рефакторингу - **зберегти функціонал існуючого коду**, але зробити його більш читабельним, зручним для розуміння та модифікації.   пʼяти осіб. Для обчислення індексу маси тіла треба розділити вагу на зріст, піднесений до квадрату.\n",
    "\n",
    "  Виділіть у функцію код, що дублюється (робить одні і ті ж самі операції, але з різними числами) так, аби результат збергісі **той самий**, але коду стало менше.\n",
    "\n",
    "  В кінці - запустіть свій відрефакторений фрагмент коду. Якщо Ваш код виводить не те ж саме, що наведений фрагмент до рефакторингу, завдання вважається не виконаним.\n",
    "\n",
    "  **Увага**: Це завдання - творче. Можна обгорнути даний код у функцію по-різному. Єдиної правильної відповіді нема. Буде перевірятись розуміння підходу \"винесення частин, що повторюються, у функцію\"."
   ]
  },
  {
   "cell_type": "code",
   "execution_count": 16,
   "id": "e0750a47",
   "metadata": {
    "ExecuteTime": {
     "end_time": "2023-02-26T21:36:29.139957Z",
     "start_time": "2023-02-26T21:36:29.117743Z"
    },
    "execution": {
     "iopub.execute_input": "2025-07-06T16:48:58.839352Z",
     "iopub.status.busy": "2025-07-06T16:48:58.838797Z",
     "iopub.status.idle": "2025-07-06T16:48:58.847534Z",
     "shell.execute_reply": "2025-07-06T16:48:58.846588Z",
     "shell.execute_reply.started": "2025-07-06T16:48:58.839332Z"
    },
    "id": "e0750a47"
   },
   "outputs": [
    {
     "name": "stdout",
     "output_type": "stream",
     "text": [
      "bmi person1 = 30\n",
      "bmi person2 = 29\n",
      "bmi person3 = 29\n",
      "bmi person4 = 24\n",
      "bmi person5 = 28\n"
     ]
    }
   ],
   "source": [
    "person1 = [80, 1.62]\n",
    "person2 = [69, 1.53]\n",
    "person3 = [80, 1.66]\n",
    "person4 = [80, 1.79]\n",
    "person5 = [72, 1.60]\n",
    "\n",
    "bmi_person1 = int(person1[0] / person1[1]**2)\n",
    "print(\"bmi {} = {}\".format('person1', bmi_person1))\n",
    "\n",
    "bmi_person2 = int(person2[0] / person2[1]**2)\n",
    "print(\"bmi {} = {}\".format('person2', bmi_person2))\n",
    "\n",
    "bmi_person3 = int(person3[0] / person3[1]**2)\n",
    "print(\"bmi {} = {}\".format('person3', bmi_person3))\n",
    "\n",
    "bmi_person4 = int(person4[0] / person4[1]**2)\n",
    "print(\"bmi {} = {}\".format('person4', bmi_person4))\n",
    "\n",
    "bmi_person5 = int(person5[0] / person5[1]**2)\n",
    "print(\"bmi {} = {}\".format('person5', bmi_person5))"
   ]
  },
  {
   "cell_type": "code",
   "execution_count": 38,
   "id": "MR3hny6hLFmu",
   "metadata": {
    "execution": {
     "iopub.execute_input": "2025-07-06T17:10:17.801716Z",
     "iopub.status.busy": "2025-07-06T17:10:17.801300Z",
     "iopub.status.idle": "2025-07-06T17:10:17.806191Z",
     "shell.execute_reply": "2025-07-06T17:10:17.805280Z",
     "shell.execute_reply.started": "2025-07-06T17:10:17.801695Z"
    },
    "id": "MR3hny6hLFmu"
   },
   "outputs": [],
   "source": [
    "def bmi(weight: int | float, height: int | float):\n",
    "    if height == 0:\n",
    "     return \"Вкажіть зріст!\"\n",
    "    return int(weight / (height**2))"
   ]
  },
  {
   "cell_type": "code",
   "execution_count": 51,
   "id": "b7941d05-360a-4abc-80bc-429d2c39b2e7",
   "metadata": {
    "execution": {
     "iopub.execute_input": "2025-07-06T17:14:21.004995Z",
     "iopub.status.busy": "2025-07-06T17:14:21.004609Z",
     "iopub.status.idle": "2025-07-06T17:14:21.008848Z",
     "shell.execute_reply": "2025-07-06T17:14:21.008026Z",
     "shell.execute_reply.started": "2025-07-06T17:14:21.004973Z"
    }
   },
   "outputs": [],
   "source": [
    "people = {\n",
    "    \"person1\": [80, 1.62],\n",
    "    \"person2\": [69, 1.53],\n",
    "    \"person3\": [80, 1.66],\n",
    "    \"person4\": [80, 1.79],\n",
    "    \"person5\": [72, 1.60]\n",
    "}"
   ]
  },
  {
   "cell_type": "code",
   "execution_count": 52,
   "id": "fa8c5298-8e62-45ef-972f-2cd313ba5b24",
   "metadata": {
    "execution": {
     "iopub.execute_input": "2025-07-06T17:14:21.703618Z",
     "iopub.status.busy": "2025-07-06T17:14:21.703115Z",
     "iopub.status.idle": "2025-07-06T17:14:21.708904Z",
     "shell.execute_reply": "2025-07-06T17:14:21.707879Z",
     "shell.execute_reply.started": "2025-07-06T17:14:21.703598Z"
    }
   },
   "outputs": [
    {
     "name": "stdout",
     "output_type": "stream",
     "text": [
      "ІМТ person1 = 30\n",
      "ІМТ person2 = 29\n",
      "ІМТ person3 = 29\n",
      "ІМТ person4 = 24\n",
      "ІМТ person5 = 28\n"
     ]
    }
   ],
   "source": [
    "for person, data in people.items():\n",
    "    weight = data[0] #розпаковуємо дані зі словника\n",
    "    height = data[1] #розпаковуємо дані зі словника\n",
    "    persone_bmi = bmi(weight, height) # рахуємо \n",
    "    print(f\"ІМТ {person} = {persone_bmi}\")"
   ]
  },
  {
   "cell_type": "code",
   "execution_count": 53,
   "id": "b19825c9-97e3-4c5e-a075-4e1bfd0dd9db",
   "metadata": {
    "execution": {
     "iopub.execute_input": "2025-07-06T17:14:25.779653Z",
     "iopub.status.busy": "2025-07-06T17:14:25.779131Z",
     "iopub.status.idle": "2025-07-06T17:14:25.783961Z",
     "shell.execute_reply": "2025-07-06T17:14:25.782913Z",
     "shell.execute_reply.started": "2025-07-06T17:14:25.779624Z"
    }
   },
   "outputs": [],
   "source": [
    "people [\"person6\"] = [72, 0]"
   ]
  },
  {
   "cell_type": "code",
   "execution_count": 54,
   "id": "4620663b-64bb-47df-8de1-cd0a12f72e5b",
   "metadata": {
    "execution": {
     "iopub.execute_input": "2025-07-06T17:14:35.557372Z",
     "iopub.status.busy": "2025-07-06T17:14:35.556886Z",
     "iopub.status.idle": "2025-07-06T17:14:35.562680Z",
     "shell.execute_reply": "2025-07-06T17:14:35.561838Z",
     "shell.execute_reply.started": "2025-07-06T17:14:35.557351Z"
    }
   },
   "outputs": [
    {
     "name": "stdout",
     "output_type": "stream",
     "text": [
      "ІМТ person1 = 30\n",
      "ІМТ person2 = 29\n",
      "ІМТ person3 = 29\n",
      "ІМТ person4 = 24\n",
      "ІМТ person5 = 28\n",
      "ІМТ person6 = Вкажіть зріст!\n"
     ]
    }
   ],
   "source": [
    "# чекаю для себе якщо зрвст = 0\n",
    "for person, data in people.items():\n",
    "    weight = data[0] #розпаковуємо дані зі словника\n",
    "    height = data[1] #розпаковуємо дані зі словника\n",
    "    persone_bmi = bmi(weight, height) # рахуємо \n",
    "    print(f\"ІМТ {person} = {persone_bmi}\")"
   ]
  },
  {
   "cell_type": "code",
   "execution_count": null,
   "id": "eed9ce46-307d-4bfa-88e6-3b90f82b347e",
   "metadata": {},
   "outputs": [],
   "source": []
  }
 ],
 "metadata": {
  "colab": {
   "provenance": []
  },
  "kernelspec": {
   "display_name": "Python 3 (ipykernel)",
   "language": "python",
   "name": "python3"
  },
  "language_info": {
   "codemirror_mode": {
    "name": "ipython",
    "version": 3
   },
   "file_extension": ".py",
   "mimetype": "text/x-python",
   "name": "python",
   "nbconvert_exporter": "python",
   "pygments_lexer": "ipython3",
   "version": "3.13.4"
  },
  "toc": {
   "base_numbering": 1,
   "nav_menu": {},
   "number_sections": true,
   "sideBar": true,
   "skip_h1_title": false,
   "title_cell": "Table of Contents",
   "title_sidebar": "Contents",
   "toc_cell": false,
   "toc_position": {},
   "toc_section_display": true,
   "toc_window_display": false
  }
 },
 "nbformat": 4,
 "nbformat_minor": 5
}
