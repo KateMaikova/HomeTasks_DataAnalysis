{
 "cells": [
  {
   "cell_type": "markdown",
   "metadata": {
    "id": "wF6xe36Osbxi"
   },
   "source": [
    "# Домашнє завдання до теми \"Розширені методи обробки даних у Pandas\""
   ]
  },
  {
   "cell_type": "markdown",
   "metadata": {
    "id": "Fa2CIJElO3L3"
   },
   "source": [
    "В цьому домашньому завданні продовжуємо працювати з набором даних `supermarket_sales.csv`."
   ]
  },
  {
   "cell_type": "markdown",
   "metadata": {
    "id": "z0F_6xB-DQi7"
   },
   "source": [
    "0. Імпортуйте бібліотеку pandas та зчитайте дані у змінну `df` типу `pandas.DataFrame`."
   ]
  },
  {
   "cell_type": "code",
   "execution_count": 1,
   "metadata": {
    "execution": {
     "iopub.execute_input": "2025-07-14T17:03:02.739516Z",
     "iopub.status.busy": "2025-07-14T17:03:02.738327Z",
     "iopub.status.idle": "2025-07-14T17:03:06.584763Z",
     "shell.execute_reply": "2025-07-14T17:03:06.584147Z",
     "shell.execute_reply.started": "2025-07-14T17:03:02.739432Z"
    },
    "id": "-4jR3F-rDQi7"
   },
   "outputs": [],
   "source": [
    "import pandas as pd"
   ]
  },
  {
   "cell_type": "code",
   "execution_count": 5,
   "metadata": {
    "execution": {
     "iopub.execute_input": "2025-07-14T17:04:26.476569Z",
     "iopub.status.busy": "2025-07-14T17:04:26.476255Z",
     "iopub.status.idle": "2025-07-14T17:04:26.483084Z",
     "shell.execute_reply": "2025-07-14T17:04:26.481930Z",
     "shell.execute_reply.started": "2025-07-14T17:04:26.476552Z"
    }
   },
   "outputs": [
    {
     "data": {
      "text/plain": [
       "['health_insurance_cross_sell_prediction.csv', 'supermarket_sales.csv']"
      ]
     },
     "execution_count": 5,
     "metadata": {},
     "output_type": "execute_result"
    }
   ],
   "source": [
    "import os \n",
    "os.listdir(r'D:/DataLovesAcademy/data')"
   ]
  },
  {
   "cell_type": "code",
   "execution_count": 7,
   "metadata": {
    "execution": {
     "iopub.execute_input": "2025-07-14T17:05:26.014082Z",
     "iopub.status.busy": "2025-07-14T17:05:26.013603Z",
     "iopub.status.idle": "2025-07-14T17:05:26.087784Z",
     "shell.execute_reply": "2025-07-14T17:05:26.087064Z",
     "shell.execute_reply.started": "2025-07-14T17:05:26.014061Z"
    }
   },
   "outputs": [],
   "source": [
    "path = (r'D:/DataLovesAcademy/data/supermarket_sales.csv')\n",
    "df = pd.read_csv(path)"
   ]
  },
  {
   "cell_type": "code",
   "execution_count": 10,
   "metadata": {
    "execution": {
     "iopub.execute_input": "2025-07-14T17:06:27.492569Z",
     "iopub.status.busy": "2025-07-14T17:06:27.491915Z",
     "iopub.status.idle": "2025-07-14T17:06:27.498016Z",
     "shell.execute_reply": "2025-07-14T17:06:27.497289Z",
     "shell.execute_reply.started": "2025-07-14T17:06:27.492545Z"
    }
   },
   "outputs": [
    {
     "data": {
      "text/plain": [
       "pandas.core.frame.DataFrame"
      ]
     },
     "execution_count": 10,
     "metadata": {},
     "output_type": "execute_result"
    }
   ],
   "source": [
    "type(df)"
   ]
  },
  {
   "cell_type": "markdown",
   "metadata": {
    "id": "hH26_h5wOLfj"
   },
   "source": [
    "1. Відсортуйте дані за спаданням ціни товара ('Unit price') і виведіть 5 перших рядочків на екран."
   ]
  },
  {
   "cell_type": "code",
   "execution_count": 17,
   "metadata": {
    "execution": {
     "iopub.execute_input": "2025-07-14T17:09:46.623466Z",
     "iopub.status.busy": "2025-07-14T17:09:46.623200Z",
     "iopub.status.idle": "2025-07-14T17:09:46.641178Z",
     "shell.execute_reply": "2025-07-14T17:09:46.640067Z",
     "shell.execute_reply.started": "2025-07-14T17:09:46.623449Z"
    },
    "id": "C_CMIujQN9s6"
   },
   "outputs": [
    {
     "data": {
      "text/html": [
       "<div>\n",
       "<style scoped>\n",
       "    .dataframe tbody tr th:only-of-type {\n",
       "        vertical-align: middle;\n",
       "    }\n",
       "\n",
       "    .dataframe tbody tr th {\n",
       "        vertical-align: top;\n",
       "    }\n",
       "\n",
       "    .dataframe thead th {\n",
       "        text-align: right;\n",
       "    }\n",
       "</style>\n",
       "<table border=\"1\" class=\"dataframe\">\n",
       "  <thead>\n",
       "    <tr style=\"text-align: right;\">\n",
       "      <th></th>\n",
       "      <th>Invoice ID</th>\n",
       "      <th>Branch</th>\n",
       "      <th>City</th>\n",
       "      <th>Customer type</th>\n",
       "      <th>Gender</th>\n",
       "      <th>Product line</th>\n",
       "      <th>Unit price</th>\n",
       "      <th>Quantity</th>\n",
       "      <th>Tax 5%</th>\n",
       "      <th>Total</th>\n",
       "      <th>Date</th>\n",
       "      <th>Time</th>\n",
       "      <th>Payment</th>\n",
       "      <th>cogs</th>\n",
       "      <th>gross margin percentage</th>\n",
       "      <th>gross income</th>\n",
       "      <th>Rating</th>\n",
       "    </tr>\n",
       "  </thead>\n",
       "  <tbody>\n",
       "    <tr>\n",
       "      <th>983</th>\n",
       "      <td>148-41-7930</td>\n",
       "      <td>C</td>\n",
       "      <td>Naypyitaw</td>\n",
       "      <td>Normal</td>\n",
       "      <td>Male</td>\n",
       "      <td>Health and beauty</td>\n",
       "      <td>99.96</td>\n",
       "      <td>7</td>\n",
       "      <td>34.986</td>\n",
       "      <td>734.706</td>\n",
       "      <td>1/23/2019</td>\n",
       "      <td>10:33</td>\n",
       "      <td>Cash</td>\n",
       "      <td>699.72</td>\n",
       "      <td>4.761905</td>\n",
       "      <td>34.986</td>\n",
       "      <td>6.1</td>\n",
       "    </tr>\n",
       "    <tr>\n",
       "      <th>122</th>\n",
       "      <td>219-22-9386</td>\n",
       "      <td>B</td>\n",
       "      <td>Mandalay</td>\n",
       "      <td>Member</td>\n",
       "      <td>Male</td>\n",
       "      <td>Sports and travel</td>\n",
       "      <td>99.96</td>\n",
       "      <td>9</td>\n",
       "      <td>44.982</td>\n",
       "      <td>944.622</td>\n",
       "      <td>3/9/2019</td>\n",
       "      <td>17:26</td>\n",
       "      <td>Credit card</td>\n",
       "      <td>899.64</td>\n",
       "      <td>4.761905</td>\n",
       "      <td>44.982</td>\n",
       "      <td>4.2</td>\n",
       "    </tr>\n",
       "    <tr>\n",
       "      <th>930</th>\n",
       "      <td>641-62-7288</td>\n",
       "      <td>B</td>\n",
       "      <td>Mandalay</td>\n",
       "      <td>Normal</td>\n",
       "      <td>Male</td>\n",
       "      <td>Home and lifestyle</td>\n",
       "      <td>99.92</td>\n",
       "      <td>6</td>\n",
       "      <td>29.976</td>\n",
       "      <td>629.496</td>\n",
       "      <td>3/24/2019</td>\n",
       "      <td>13:33</td>\n",
       "      <td>Ewallet</td>\n",
       "      <td>599.52</td>\n",
       "      <td>4.761905</td>\n",
       "      <td>29.976</td>\n",
       "      <td>7.1</td>\n",
       "    </tr>\n",
       "    <tr>\n",
       "      <th>494</th>\n",
       "      <td>437-53-3084</td>\n",
       "      <td>B</td>\n",
       "      <td>Mandalay</td>\n",
       "      <td>Normal</td>\n",
       "      <td>Male</td>\n",
       "      <td>Fashion accessories</td>\n",
       "      <td>99.89</td>\n",
       "      <td>2</td>\n",
       "      <td>9.989</td>\n",
       "      <td>209.769</td>\n",
       "      <td>2/26/2019</td>\n",
       "      <td>11:48</td>\n",
       "      <td>Ewallet</td>\n",
       "      <td>199.78</td>\n",
       "      <td>4.761905</td>\n",
       "      <td>9.989</td>\n",
       "      <td>7.1</td>\n",
       "    </tr>\n",
       "    <tr>\n",
       "      <th>283</th>\n",
       "      <td>667-92-0055</td>\n",
       "      <td>A</td>\n",
       "      <td>Yangon</td>\n",
       "      <td>Member</td>\n",
       "      <td>Male</td>\n",
       "      <td>Health and beauty</td>\n",
       "      <td>99.83</td>\n",
       "      <td>6</td>\n",
       "      <td>29.949</td>\n",
       "      <td>628.929</td>\n",
       "      <td>3/4/2019</td>\n",
       "      <td>15:02</td>\n",
       "      <td>Ewallet</td>\n",
       "      <td>598.98</td>\n",
       "      <td>4.761905</td>\n",
       "      <td>29.949</td>\n",
       "      <td>8.5</td>\n",
       "    </tr>\n",
       "  </tbody>\n",
       "</table>\n",
       "</div>"
      ],
      "text/plain": [
       "      Invoice ID Branch       City Customer type Gender         Product line  \\\n",
       "983  148-41-7930      C  Naypyitaw        Normal   Male    Health and beauty   \n",
       "122  219-22-9386      B   Mandalay        Member   Male    Sports and travel   \n",
       "930  641-62-7288      B   Mandalay        Normal   Male   Home and lifestyle   \n",
       "494  437-53-3084      B   Mandalay        Normal   Male  Fashion accessories   \n",
       "283  667-92-0055      A     Yangon        Member   Male    Health and beauty   \n",
       "\n",
       "     Unit price  Quantity  Tax 5%    Total       Date   Time      Payment  \\\n",
       "983       99.96         7  34.986  734.706  1/23/2019  10:33         Cash   \n",
       "122       99.96         9  44.982  944.622   3/9/2019  17:26  Credit card   \n",
       "930       99.92         6  29.976  629.496  3/24/2019  13:33      Ewallet   \n",
       "494       99.89         2   9.989  209.769  2/26/2019  11:48      Ewallet   \n",
       "283       99.83         6  29.949  628.929   3/4/2019  15:02      Ewallet   \n",
       "\n",
       "       cogs  gross margin percentage  gross income  Rating  \n",
       "983  699.72                 4.761905        34.986     6.1  \n",
       "122  899.64                 4.761905        44.982     4.2  \n",
       "930  599.52                 4.761905        29.976     7.1  \n",
       "494  199.78                 4.761905         9.989     7.1  \n",
       "283  598.98                 4.761905        29.949     8.5  "
      ]
     },
     "execution_count": 17,
     "metadata": {},
     "output_type": "execute_result"
    }
   ],
   "source": [
    "df.sort_values(by = 'Unit price', ascending = False).head(5)"
   ]
  },
  {
   "cell_type": "markdown",
   "metadata": {
    "id": "H7IyOIfIONXy"
   },
   "source": [
    "2. Знайдіть інвойс (рядок в даних) в категорії товарів `Electronic accessories`, в якому був куплений товар з найбільшою кількістю і найбільшою ціною. Виведіть цей рядок даних на екран."
   ]
  },
  {
   "cell_type": "code",
   "execution_count": 30,
   "metadata": {
    "execution": {
     "iopub.execute_input": "2025-07-14T17:31:15.142916Z",
     "iopub.status.busy": "2025-07-14T17:31:15.142516Z",
     "iopub.status.idle": "2025-07-14T17:31:15.161987Z",
     "shell.execute_reply": "2025-07-14T17:31:15.161277Z",
     "shell.execute_reply.started": "2025-07-14T17:31:15.142897Z"
    }
   },
   "outputs": [
    {
     "data": {
      "text/html": [
       "<div>\n",
       "<style scoped>\n",
       "    .dataframe tbody tr th:only-of-type {\n",
       "        vertical-align: middle;\n",
       "    }\n",
       "\n",
       "    .dataframe tbody tr th {\n",
       "        vertical-align: top;\n",
       "    }\n",
       "\n",
       "    .dataframe thead th {\n",
       "        text-align: right;\n",
       "    }\n",
       "</style>\n",
       "<table border=\"1\" class=\"dataframe\">\n",
       "  <thead>\n",
       "    <tr style=\"text-align: right;\">\n",
       "      <th></th>\n",
       "      <th>Invoice ID</th>\n",
       "      <th>Branch</th>\n",
       "      <th>City</th>\n",
       "      <th>Customer type</th>\n",
       "      <th>Gender</th>\n",
       "      <th>Product line</th>\n",
       "      <th>Unit price</th>\n",
       "      <th>Quantity</th>\n",
       "      <th>Tax 5%</th>\n",
       "      <th>Total</th>\n",
       "      <th>Date</th>\n",
       "      <th>Time</th>\n",
       "      <th>Payment</th>\n",
       "      <th>cogs</th>\n",
       "      <th>gross margin percentage</th>\n",
       "      <th>gross income</th>\n",
       "      <th>Rating</th>\n",
       "    </tr>\n",
       "  </thead>\n",
       "  <tbody>\n",
       "    <tr>\n",
       "      <th>105</th>\n",
       "      <td>704-48-3927</td>\n",
       "      <td>A</td>\n",
       "      <td>Yangon</td>\n",
       "      <td>Member</td>\n",
       "      <td>Male</td>\n",
       "      <td>Electronic accessories</td>\n",
       "      <td>88.67</td>\n",
       "      <td>10</td>\n",
       "      <td>44.335</td>\n",
       "      <td>931.035</td>\n",
       "      <td>1/12/2019</td>\n",
       "      <td>14:50</td>\n",
       "      <td>Ewallet</td>\n",
       "      <td>886.7</td>\n",
       "      <td>4.761905</td>\n",
       "      <td>44.335</td>\n",
       "      <td>7.3</td>\n",
       "    </tr>\n",
       "  </tbody>\n",
       "</table>\n",
       "</div>"
      ],
      "text/plain": [
       "      Invoice ID Branch    City Customer type Gender            Product line  \\\n",
       "105  704-48-3927      A  Yangon        Member   Male  Electronic accessories   \n",
       "\n",
       "     Unit price  Quantity  Tax 5%    Total       Date   Time  Payment   cogs  \\\n",
       "105       88.67        10  44.335  931.035  1/12/2019  14:50  Ewallet  886.7   \n",
       "\n",
       "     gross margin percentage  gross income  Rating  \n",
       "105                 4.761905        44.335     7.3  "
      ]
     },
     "execution_count": 30,
     "metadata": {},
     "output_type": "execute_result"
    }
   ],
   "source": [
    "# аби працювати з назвою колонок, які містять пробіл, їх треба огорнути в обернений апостроф. АЛЕ!\n",
    "# !!! зворотні апострофи (backticks `) для іменування колонок, що містять пробіли або спеціальні символи, працюють переважно (і найбільш типово) лише в методі DataFrame.query().\n",
    "# !!!! Усі інші методи Pandas та загальний доступ до колонок: Використовуйте квадратні дужки ([]) з назвою колонки як рядком. df['Product line']\n",
    "\n",
    "df.query('`Product line` == \"Electronic accessories\"').sort_values(by = ['Quantity', 'Unit price'], ascending = [False, False]).head(1)"
   ]
  },
  {
   "cell_type": "markdown",
   "metadata": {
    "id": "n2iSihPRDHvv"
   },
   "source": [
    "3.1. Створіть нову колонку в даних `Rating Category`, яка визначає категорію рейтингу (`Rating`): високий, середній чи низький за наступним правилом:\n",
    "- якщо рейтинг вищий або рівний 8 - то він високий (`High`)\n",
    "- якщо рейтинг від 6 до 8 не включаючи - то він середній (`Medium`)\n",
    "- інакше - низький (`Low`)."
   ]
  },
  {
   "cell_type": "code",
   "execution_count": 57,
   "metadata": {
    "execution": {
     "iopub.execute_input": "2025-07-14T17:41:41.292141Z",
     "iopub.status.busy": "2025-07-14T17:41:41.291775Z",
     "iopub.status.idle": "2025-07-14T17:41:41.304442Z",
     "shell.execute_reply": "2025-07-14T17:41:41.303617Z",
     "shell.execute_reply.started": "2025-07-14T17:41:41.292123Z"
    }
   },
   "outputs": [],
   "source": [
    "def mapping_category(rat):\n",
    "    if rat >= 8: \n",
    "        return 'High'\n",
    "    elif rat >= 6:\n",
    "        return 'Medium'\n",
    "    else:\n",
    "        return 'Low'"
   ]
  },
  {
   "cell_type": "code",
   "execution_count": 62,
   "metadata": {
    "execution": {
     "iopub.execute_input": "2025-07-14T17:51:31.987041Z",
     "iopub.status.busy": "2025-07-14T17:51:31.986784Z",
     "iopub.status.idle": "2025-07-14T17:51:31.992443Z",
     "shell.execute_reply": "2025-07-14T17:51:31.991725Z",
     "shell.execute_reply.started": "2025-07-14T17:51:31.987023Z"
    }
   },
   "outputs": [],
   "source": [
    "df['Rating Category'] = df.Rating.apply(lambda x: mapping_category(x))"
   ]
  },
  {
   "cell_type": "markdown",
   "metadata": {
    "id": "0tTSRjXDEdDe"
   },
   "source": [
    "3.2. Виведіть, який відсоток даних становить кожне зі значень категорій рейтингу."
   ]
  },
  {
   "cell_type": "code",
   "execution_count": 64,
   "metadata": {
    "execution": {
     "iopub.execute_input": "2025-07-14T17:53:45.690761Z",
     "iopub.status.busy": "2025-07-14T17:53:45.690297Z",
     "iopub.status.idle": "2025-07-14T17:53:45.749448Z",
     "shell.execute_reply": "2025-07-14T17:53:45.748515Z",
     "shell.execute_reply.started": "2025-07-14T17:53:45.690743Z"
    },
    "id": "gYd_Y96ODS3a"
   },
   "outputs": [
    {
     "data": {
      "text/plain": [
       "Rating Category\n",
       "Medium    0.356\n",
       "High      0.329\n",
       "Low       0.315\n",
       "Name: proportion, dtype: float64"
      ]
     },
     "execution_count": 64,
     "metadata": {},
     "output_type": "execute_result"
    }
   ],
   "source": [
    "df['Rating Category'].value_counts(normalize=True)"
   ]
  },
  {
   "cell_type": "markdown",
   "metadata": {
    "id": "qGPne8sFHGGM"
   },
   "source": [
    "4.1. Запустіть код нижче аби створити змінну `time`. Ця змінна містить час в форматі \"година:хвилина\". Напишіть функцію `get_hour`, яка буде зі змінної формату як `time` дістати лише години і конвертувати їх у тип `int`.\n",
    "\n",
    "Запустіть написану функцію на змінній `time` та перевірте правильність роботи функції."
   ]
  },
  {
   "cell_type": "code",
   "execution_count": 72,
   "metadata": {
    "execution": {
     "iopub.execute_input": "2025-07-14T18:02:45.569736Z",
     "iopub.status.busy": "2025-07-14T18:02:45.569162Z",
     "iopub.status.idle": "2025-07-14T18:02:45.576050Z",
     "shell.execute_reply": "2025-07-14T18:02:45.575030Z",
     "shell.execute_reply.started": "2025-07-14T18:02:45.569715Z"
    },
    "id": "OZ2DD2AGEZme"
   },
   "outputs": [
    {
     "data": {
      "text/plain": [
       "'11:28'"
      ]
     },
     "execution_count": 72,
     "metadata": {},
     "output_type": "execute_result"
    }
   ],
   "source": [
    "time = '11:28'\n",
    "time"
   ]
  },
  {
   "cell_type": "code",
   "execution_count": 71,
   "metadata": {
    "execution": {
     "iopub.execute_input": "2025-07-14T18:02:08.770910Z",
     "iopub.status.busy": "2025-07-14T18:02:08.770194Z",
     "iopub.status.idle": "2025-07-14T18:02:08.775631Z",
     "shell.execute_reply": "2025-07-14T18:02:08.774651Z",
     "shell.execute_reply.started": "2025-07-14T18:02:08.770889Z"
    },
    "id": "BxDWBPalHimp"
   },
   "outputs": [],
   "source": [
    "def get_hour(time_int):\n",
    "    parts = time_int.split(':') # Розбиваємо рядок за символом ':'\n",
    "    hour_str = parts[0] # під індексом 0 - години\n",
    "    hour_int = int(hour_str)\n",
    "    return hour_int"
   ]
  },
  {
   "cell_type": "code",
   "execution_count": 74,
   "metadata": {
    "execution": {
     "iopub.execute_input": "2025-07-14T18:04:15.424366Z",
     "iopub.status.busy": "2025-07-14T18:04:15.423828Z",
     "iopub.status.idle": "2025-07-14T18:04:15.429861Z",
     "shell.execute_reply": "2025-07-14T18:04:15.428891Z",
     "shell.execute_reply.started": "2025-07-14T18:04:15.424326Z"
    }
   },
   "outputs": [
    {
     "data": {
      "text/plain": [
       "11"
      ]
     },
     "execution_count": 74,
     "metadata": {},
     "output_type": "execute_result"
    }
   ],
   "source": [
    "time_hour = get_hour(time)\n",
    "time_hour"
   ]
  },
  {
   "cell_type": "markdown",
   "metadata": {
    "id": "3F7Nmc84IM9C"
   },
   "source": [
    "4.2. З допомогою функції `get_hour` і метода `DataFrame.apply()` створіть нову колонку `Hour` в нашому наборі даних, яка буде містити години здійснення покупки, обчислені на основі часу здійснення покупки `Time`."
   ]
  },
  {
   "cell_type": "code",
   "execution_count": 80,
   "metadata": {
    "execution": {
     "iopub.execute_input": "2025-07-14T18:10:02.533594Z",
     "iopub.status.busy": "2025-07-14T18:10:02.533278Z",
     "iopub.status.idle": "2025-07-14T18:10:02.539656Z",
     "shell.execute_reply": "2025-07-14T18:10:02.538558Z",
     "shell.execute_reply.started": "2025-07-14T18:10:02.533577Z"
    },
    "id": "P-DQNIwQH_Io"
   },
   "outputs": [],
   "source": [
    "df['Hour'] = df.Time.apply(lambda x: get_hour(x))"
   ]
  },
  {
   "cell_type": "markdown",
   "metadata": {
    "id": "VcuugIB2IszQ"
   },
   "source": [
    "4.3. Виведіть кількість значень за кожною годиною покупки і дайте відповідь \"О яких годинах найбільше здійснюють покупок покупці і чому на Ваш погляд саме о цих годинах? Чи це слогічно, що найбільше покупок саме в ці години?\"."
   ]
  },
  {
   "cell_type": "code",
   "execution_count": 81,
   "metadata": {
    "execution": {
     "iopub.execute_input": "2025-07-14T18:11:07.141965Z",
     "iopub.status.busy": "2025-07-14T18:11:07.141220Z",
     "iopub.status.idle": "2025-07-14T18:11:07.158029Z",
     "shell.execute_reply": "2025-07-14T18:11:07.157145Z",
     "shell.execute_reply.started": "2025-07-14T18:11:07.141931Z"
    },
    "id": "5NgTbHM8I-Or"
   },
   "outputs": [
    {
     "data": {
      "text/plain": [
       "Hour\n",
       "19    113\n",
       "13    103\n",
       "15    102\n",
       "10    101\n",
       "18     93\n",
       "11     90\n",
       "12     89\n",
       "14     83\n",
       "16     77\n",
       "20     75\n",
       "17     74\n",
       "Name: count, dtype: int64"
      ]
     },
     "execution_count": 81,
     "metadata": {},
     "output_type": "execute_result"
    }
   ],
   "source": [
    "df['Hour'].value_counts()"
   ]
  },
  {
   "cell_type": "markdown",
   "metadata": {},
   "source": [
    "Найбільше покупок здійснюють у вечері о 19 годині. Як на мене - це логічно. Ми розглядаємо продажі супермаркетів, а люди завжди роблять покупки після роботи"
   ]
  },
  {
   "cell_type": "markdown",
   "metadata": {
    "id": "vUniX9GAKtco"
   },
   "source": [
    "5. Виведіть середнє значення чеку (`Total`) для покупок в містах, наявних в даних, за допомогою функції `groupby`."
   ]
  },
  {
   "cell_type": "code",
   "execution_count": 84,
   "metadata": {
    "execution": {
     "iopub.execute_input": "2025-07-14T18:16:46.293341Z",
     "iopub.status.busy": "2025-07-14T18:16:46.292881Z",
     "iopub.status.idle": "2025-07-14T18:16:46.315524Z",
     "shell.execute_reply": "2025-07-14T18:16:46.314234Z",
     "shell.execute_reply.started": "2025-07-14T18:16:46.293319Z"
    },
    "id": "eWRBQoO_JBY3"
   },
   "outputs": [
    {
     "data": {
      "text/plain": [
       "City\n",
       "Mandalay     319.872506\n",
       "Naypyitaw    337.099715\n",
       "Yangon       312.354031\n",
       "Name: Total, dtype: float64"
      ]
     },
     "execution_count": 84,
     "metadata": {},
     "output_type": "execute_result"
    }
   ],
   "source": [
    "avg_by_city = df.groupby('City')['Total'].mean()\n",
    "avg_by_city"
   ]
  },
  {
   "cell_type": "markdown",
   "metadata": {
    "id": "kgXBFApjLQxp"
   },
   "source": [
    "6. Виведіть кількість покупок, середнє, мінімальне та максимальне значення для загальної суми чеку (Total) в містах, наявних в даних, за допомогою функції groupby.\n",
    "Зробіть висновки з цих показників та дайте рекомендації для мережі супермаркетів."
   ]
  },
  {
   "cell_type": "code",
   "execution_count": 86,
   "metadata": {
    "execution": {
     "iopub.execute_input": "2025-07-14T18:20:07.019016Z",
     "iopub.status.busy": "2025-07-14T18:20:07.018553Z",
     "iopub.status.idle": "2025-07-14T18:20:07.037496Z",
     "shell.execute_reply": "2025-07-14T18:20:07.036503Z",
     "shell.execute_reply.started": "2025-07-14T18:20:07.018997Z"
    },
    "id": "qdspE5eWK0bq"
   },
   "outputs": [
    {
     "data": {
      "text/html": [
       "<div>\n",
       "<style scoped>\n",
       "    .dataframe tbody tr th:only-of-type {\n",
       "        vertical-align: middle;\n",
       "    }\n",
       "\n",
       "    .dataframe tbody tr th {\n",
       "        vertical-align: top;\n",
       "    }\n",
       "\n",
       "    .dataframe thead th {\n",
       "        text-align: right;\n",
       "    }\n",
       "</style>\n",
       "<table border=\"1\" class=\"dataframe\">\n",
       "  <thead>\n",
       "    <tr style=\"text-align: right;\">\n",
       "      <th></th>\n",
       "      <th>count</th>\n",
       "      <th>mean</th>\n",
       "      <th>min</th>\n",
       "      <th>max</th>\n",
       "    </tr>\n",
       "    <tr>\n",
       "      <th>City</th>\n",
       "      <th></th>\n",
       "      <th></th>\n",
       "      <th></th>\n",
       "      <th></th>\n",
       "    </tr>\n",
       "  </thead>\n",
       "  <tbody>\n",
       "    <tr>\n",
       "      <th>Mandalay</th>\n",
       "      <td>332</td>\n",
       "      <td>319.87</td>\n",
       "      <td>18.64</td>\n",
       "      <td>1022.49</td>\n",
       "    </tr>\n",
       "    <tr>\n",
       "      <th>Naypyitaw</th>\n",
       "      <td>328</td>\n",
       "      <td>337.10</td>\n",
       "      <td>10.68</td>\n",
       "      <td>1042.65</td>\n",
       "    </tr>\n",
       "    <tr>\n",
       "      <th>Yangon</th>\n",
       "      <td>340</td>\n",
       "      <td>312.35</td>\n",
       "      <td>12.69</td>\n",
       "      <td>1039.29</td>\n",
       "    </tr>\n",
       "  </tbody>\n",
       "</table>\n",
       "</div>"
      ],
      "text/plain": [
       "           count    mean    min      max\n",
       "City                                    \n",
       "Mandalay     332  319.87  18.64  1022.49\n",
       "Naypyitaw    328  337.10  10.68  1042.65\n",
       "Yangon       340  312.35  12.69  1039.29"
      ]
     },
     "execution_count": 86,
     "metadata": {},
     "output_type": "execute_result"
    }
   ],
   "source": [
    "df.groupby('City')['Total'].agg(['count','mean', 'min', 'max']).round(2)"
   ]
  },
  {
   "cell_type": "markdown",
   "metadata": {},
   "source": [
    "По кількості покупок лідирує місто Ягон, проте інші міста не сильно відрізняються к-тю (відрив між містами із найбільшлю і найменшою к-тю покупок складає менше 4%. Це значить міста майже однакові за спроможністю покупців. \n",
    "Якщо розглядати середній чек - то найбільший він у Naypyitaw, хоча це місто має найменшу к-ть покупок і в нього найнижчий мінімальний чек. Це значить що в цьому місті більше людей роблять великі покупки.\n",
    "\n",
    "Потрібно вивчити досвід кожного міста та імплементувати кращі практики інших міст, оскільки кожне місто має свої слабкі місця.\n",
    "Ягону - слід збільшити середній чек\n",
    "Naypyitaw - попрацювати над залученістю більшої к-ті клієнтів\n",
    "Mandalay - добре балансує між показниками інших магазинів і може слугувати деяким \"орієнтиром\" для інших міст. Але це не означає, що не треба покращувати показники. В цьому місті також можна попрацювати над ще більшою залученністю клієнті в і підняттю максимального чеку."
   ]
  },
  {
   "cell_type": "markdown",
   "metadata": {
    "id": "_GPVYoEe6M9E"
   },
   "source": [
    "7. Ми внесли деякі зміни в наш набір даних, тож, давайте запишемо результат у файл. Запишіть оновлену версію даних у файл `supermarket_sales_enriched.csv`. Зверніть увагу, аби не записати нічого зайвого, наприклад, індекси рядків нам в файлі не потрібні, оскільки вони стандартні."
   ]
  },
  {
   "cell_type": "code",
   "execution_count": 87,
   "metadata": {
    "execution": {
     "iopub.execute_input": "2025-07-14T18:38:15.955642Z",
     "iopub.status.busy": "2025-07-14T18:38:15.954920Z",
     "iopub.status.idle": "2025-07-14T18:38:16.029497Z",
     "shell.execute_reply": "2025-07-14T18:38:16.028829Z",
     "shell.execute_reply.started": "2025-07-14T18:38:15.955608Z"
    },
    "id": "MyEE8sAR6ele"
   },
   "outputs": [],
   "source": [
    "df.to_csv('supermarket_sales_v2.csv', index=False)"
   ]
  }
 ],
 "metadata": {
  "colab": {
   "provenance": []
  },
  "kernelspec": {
   "display_name": "Python 3 (ipykernel)",
   "language": "python",
   "name": "python3"
  },
  "language_info": {
   "codemirror_mode": {
    "name": "ipython",
    "version": 3
   },
   "file_extension": ".py",
   "mimetype": "text/x-python",
   "name": "python",
   "nbconvert_exporter": "python",
   "pygments_lexer": "ipython3",
   "version": "3.13.4"
  }
 },
 "nbformat": 4,
 "nbformat_minor": 4
}
