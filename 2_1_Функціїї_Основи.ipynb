{
 "cells": [
  {
   "cell_type": "markdown",
   "metadata": {
    "id": "QtHabST6Ez_n"
   },
   "source": [
    "# Домашнє завдання до теми \"Functions\""
   ]
  },
  {
   "cell_type": "markdown",
   "metadata": {
    "id": "6pg_NzFq5_kO"
   },
   "source": [
    "1. Напишіть фукнцію `print_message`, яка виводить на екран \"Я програмую на Python💪\" і викличіть цю фукнцію 5 разів (найкраще це зробити в циклі).\n",
    "\n",
    "  **Увага**: фукнція має робити чітко лише зазначений функціонал. Наявність додаткового функціоналу і аргументів, які не потрібні для виконання безпосередньо завдання, буде вважатись помилкою."
   ]
  },
  {
   "cell_type": "code",
   "execution_count": 11,
   "metadata": {
    "execution": {
     "iopub.execute_input": "2025-07-06T14:40:11.925438Z",
     "iopub.status.busy": "2025-07-06T14:40:11.924883Z",
     "iopub.status.idle": "2025-07-06T14:40:11.929994Z",
     "shell.execute_reply": "2025-07-06T14:40:11.929223Z",
     "shell.execute_reply.started": "2025-07-06T14:40:11.925416Z"
    },
    "id": "RbXsfwI_D8ql"
   },
   "outputs": [
    {
     "name": "stdout",
     "output_type": "stream",
     "text": [
      "Я програмую на Python💪\n",
      "Я програмую на Python💪\n",
      "Я програмую на Python💪\n",
      "Я програмую на Python💪\n",
      "Я програмую на Python💪\n"
     ]
    }
   ],
   "source": [
    "def print_message():\n",
    "    return 'Я програмую на Python💪'\n",
    "for _ in range(5):\n",
    "    message = print_message()\n",
    "    print(message)"
   ]
  },
  {
   "cell_type": "markdown",
   "metadata": {
    "id": "oyRpWRXWBL9N"
   },
   "source": [
    "2. Напишіть функцію `calculation` яка приймає на вхід 4 аргументи типу int - `a`, `b`, `c`, `d` і вертає результат обчислення такої формули: $ (a + b - c) * d $.\n",
    "\n",
    "  Викличте функцію на наступному наборі аргументів і виведіть результат на екран:\n",
    "  ```\n",
    "  a = 16\n",
    "  b = 4\n",
    "  c = 9\n",
    "  d = 3\n",
    "  ```"
   ]
  },
  {
   "cell_type": "code",
   "execution_count": 12,
   "metadata": {
    "execution": {
     "iopub.execute_input": "2025-07-06T14:42:29.157534Z",
     "iopub.status.busy": "2025-07-06T14:42:29.156958Z",
     "iopub.status.idle": "2025-07-06T14:42:29.161518Z",
     "shell.execute_reply": "2025-07-06T14:42:29.160686Z",
     "shell.execute_reply.started": "2025-07-06T14:42:29.157512Z"
    },
    "id": "Ggt2tx6kD-LS"
   },
   "outputs": [],
   "source": [
    "def calculation(a: int, b: int, c: int, d: int):\n",
    "    return (a + b - c) * d"
   ]
  },
  {
   "cell_type": "code",
   "execution_count": 13,
   "metadata": {
    "execution": {
     "iopub.execute_input": "2025-07-06T14:42:53.948918Z",
     "iopub.status.busy": "2025-07-06T14:42:53.948377Z",
     "iopub.status.idle": "2025-07-06T14:42:53.952253Z",
     "shell.execute_reply": "2025-07-06T14:42:53.951628Z",
     "shell.execute_reply.started": "2025-07-06T14:42:53.948897Z"
    }
   },
   "outputs": [],
   "source": [
    "a, b, c, d = 16, 4, 9, 3"
   ]
  },
  {
   "cell_type": "code",
   "execution_count": 15,
   "metadata": {
    "execution": {
     "iopub.execute_input": "2025-07-06T14:43:45.278973Z",
     "iopub.status.busy": "2025-07-06T14:43:45.278525Z",
     "iopub.status.idle": "2025-07-06T14:43:45.284762Z",
     "shell.execute_reply": "2025-07-06T14:43:45.283979Z",
     "shell.execute_reply.started": "2025-07-06T14:43:45.278953Z"
    }
   },
   "outputs": [
    {
     "data": {
      "text/plain": [
       "33"
      ]
     },
     "execution_count": 15,
     "metadata": {},
     "output_type": "execute_result"
    }
   ],
   "source": [
    "calculation(a, b, c, d)"
   ]
  },
  {
   "cell_type": "markdown",
   "metadata": {
    "id": "5hf1CbllDU_t"
   },
   "source": [
    "3. Напишіть функцію, яка додає до аргумента 15 і вертає результат додавання. Викличте функцію, передаючи в якості аргументів кожну з наступних змінних по черзі, і виведіть кожного разу результат на екран.\n",
    "```\n",
    "x = 9\n",
    "y = 14\n",
    "z = -19\n",
    "```"
   ]
  },
  {
   "cell_type": "code",
   "execution_count": 16,
   "metadata": {
    "execution": {
     "iopub.execute_input": "2025-07-06T14:45:58.971103Z",
     "iopub.status.busy": "2025-07-06T14:45:58.970753Z",
     "iopub.status.idle": "2025-07-06T14:45:58.975088Z",
     "shell.execute_reply": "2025-07-06T14:45:58.974285Z",
     "shell.execute_reply.started": "2025-07-06T14:45:58.971085Z"
    },
    "id": "GvEs_nUtD_Cd"
   },
   "outputs": [],
   "source": [
    "def add_15(value):\n",
    "    return(value + 15)"
   ]
  },
  {
   "cell_type": "code",
   "execution_count": 17,
   "metadata": {
    "execution": {
     "iopub.execute_input": "2025-07-06T14:46:24.143872Z",
     "iopub.status.busy": "2025-07-06T14:46:24.143544Z",
     "iopub.status.idle": "2025-07-06T14:46:24.156730Z",
     "shell.execute_reply": "2025-07-06T14:46:24.155883Z",
     "shell.execute_reply.started": "2025-07-06T14:46:24.143852Z"
    }
   },
   "outputs": [],
   "source": [
    "x, y, z = 9, 14, -19"
   ]
  },
  {
   "cell_type": "code",
   "execution_count": 22,
   "metadata": {
    "execution": {
     "iopub.execute_input": "2025-07-06T14:48:33.698674Z",
     "iopub.status.busy": "2025-07-06T14:48:33.698235Z",
     "iopub.status.idle": "2025-07-06T14:48:33.703851Z",
     "shell.execute_reply": "2025-07-06T14:48:33.703139Z",
     "shell.execute_reply.started": "2025-07-06T14:48:33.698655Z"
    }
   },
   "outputs": [
    {
     "data": {
      "text/plain": [
       "(24, 29, -4)"
      ]
     },
     "execution_count": 22,
     "metadata": {},
     "output_type": "execute_result"
    }
   ],
   "source": [
    "add_15(x), add_15(y), add_15(z)"
   ]
  },
  {
   "cell_type": "markdown",
   "metadata": {
    "id": "bUuVBhie53uK"
   },
   "source": [
    "4. Напишіть функцію `multipy_numbers`, яка приймає два числа як аргументи і повертає їх добуток.\n",
    "\n",
    "  Викличіть функцію `multipy_numbers` на парах чисел\n",
    "- 10 і 2\n",
    "- 7 і 8\n",
    "- 1024 і 999.\n",
    "  \n",
    "  Виведіть результат кожного виклику.\n",
    "  При виконанні цього завдання з використанням циклу - отримаєте 2х балів за нього :)"
   ]
  },
  {
   "cell_type": "code",
   "execution_count": 27,
   "metadata": {
    "execution": {
     "iopub.execute_input": "2025-07-06T15:01:22.179595Z",
     "iopub.status.busy": "2025-07-06T15:01:22.179312Z",
     "iopub.status.idle": "2025-07-06T15:01:22.184702Z",
     "shell.execute_reply": "2025-07-06T15:01:22.184167Z",
     "shell.execute_reply.started": "2025-07-06T15:01:22.179577Z"
    },
    "id": "cDqrgZ4YEAKj"
   },
   "outputs": [
    {
     "name": "stdout",
     "output_type": "stream",
     "text": [
      "Добуток 10 та 2 = 20\n",
      "Добуток 7 та 8 = 56\n",
      "Добуток 1024 та 999 = 1022976\n"
     ]
    }
   ],
   "source": [
    "def multipy_numbers(a, b):\n",
    "    return(a*b)\n",
    "number_pairs = [(10,2),(7,8),(1024,999)]\n",
    "for pair in number_pairs:\n",
    "    arg1 = pair[0]\n",
    "    arg2 = pair[1]\n",
    "    product = multipy_numbers(arg1, arg2)\n",
    "    print(f\"Добуток {arg1} та {arg2} = {product}\")"
   ]
  },
  {
   "cell_type": "markdown",
   "metadata": {
    "id": "I03t46k27dDZ"
   },
   "source": [
    "5. **Ділення з перевіркою типів.**  \n",
    "\n",
    "  1. Напишіть функцію `int_division` яка приймає на вхід два аргументи типу `int` - `a` і `b`, і виконує ділення першого аргумента на другий: `a/b`. При цьому функція перед діленням перевіряє, чи другий аргумент не дорівнює 0. Якщо другий аргумент не 0, фукнція вертає результат ділення, інакше - замість виконання ділення, вертає повідомлення на екран \"Не можу виконати ділення на 0\".\n",
    "\n",
    "    Якщо типи, надані у функцію, не `int` - функція виводить повідомлення \"Не працюю з такими типами даних.\".\n",
    "\n",
    "  2. Запустіть функцію на наступних парах чисел:\n",
    "- 12 і 6\n",
    "- 20 і 0\n",
    "- 112 і 10\n",
    "- 99 і 0\n",
    "- 11 i 1.1\n",
    "\n",
    "    і виведіть на екран повідомлення \"Результат роботи функції: \" - і далі те, що повернула функція.\n",
    "\n",
    "  3. Дайте відповідь на питання: \"Чому в деяких випадках функція повернула None?\""
   ]
  },
  {
   "cell_type": "code",
   "execution_count": 35,
   "metadata": {
    "execution": {
     "iopub.execute_input": "2025-07-06T15:15:18.850832Z",
     "iopub.status.busy": "2025-07-06T15:15:18.850465Z",
     "iopub.status.idle": "2025-07-06T15:15:18.854645Z",
     "shell.execute_reply": "2025-07-06T15:15:18.853987Z",
     "shell.execute_reply.started": "2025-07-06T15:15:18.850812Z"
    },
    "id": "1-EQhxrAEEAb"
   },
   "outputs": [],
   "source": [
    "def int_division(a: int, b:int):\n",
    " if not isinstance(a, int) or not isinstance(b, int):\n",
    "        return \"Не працюю з такими типами даних\"\n",
    " if b == 0:\n",
    "    return \"Не можу виконати ділення на 0\"\n",
    " return(a / b)"
   ]
  },
  {
   "cell_type": "code",
   "execution_count": 42,
   "metadata": {
    "execution": {
     "iopub.execute_input": "2025-07-06T15:17:01.564303Z",
     "iopub.status.busy": "2025-07-06T15:17:01.563781Z",
     "iopub.status.idle": "2025-07-06T15:17:01.567922Z",
     "shell.execute_reply": "2025-07-06T15:17:01.567187Z",
     "shell.execute_reply.started": "2025-07-06T15:17:01.564283Z"
    }
   },
   "outputs": [],
   "source": [
    "pairs = [(12,6),(20,0),(112,10),(11,1.1)]"
   ]
  },
  {
   "cell_type": "code",
   "execution_count": 45,
   "metadata": {
    "execution": {
     "iopub.execute_input": "2025-07-06T15:19:01.218982Z",
     "iopub.status.busy": "2025-07-06T15:19:01.218596Z",
     "iopub.status.idle": "2025-07-06T15:19:01.224880Z",
     "shell.execute_reply": "2025-07-06T15:19:01.223797Z",
     "shell.execute_reply.started": "2025-07-06T15:19:01.218962Z"
    }
   },
   "outputs": [
    {
     "name": "stdout",
     "output_type": "stream",
     "text": [
      "Результат роботи функції: 2.0\n",
      "Результат роботи функції: Не можу виконати ділення на 0\n",
      "Результат роботи функції: 11.2\n",
      "Результат роботи функції: Не працюю з такими типами даних\n"
     ]
    }
   ],
   "source": [
    "for pair in pairs:\n",
    "    arg1 = pair[0]\n",
    "    arg2 = pair[1]\n",
    "    devision = int_division(arg1, arg2)\n",
    "    print(f\"Результат роботи функції: {devision}\")"
   ]
  },
  {
   "cell_type": "code",
   "execution_count": null,
   "metadata": {},
   "outputs": [],
   "source": [
    "# хм, в мене функція не повертає None. Мені здається у функції немає шансів повернути None, бо я ж їй даю чіткі інструкції що вивести через return"
   ]
  }
 ],
 "metadata": {
  "colab": {
   "provenance": []
  },
  "kernelspec": {
   "display_name": "Python 3 (ipykernel)",
   "language": "python",
   "name": "python3"
  },
  "language_info": {
   "codemirror_mode": {
    "name": "ipython",
    "version": 3
   },
   "file_extension": ".py",
   "mimetype": "text/x-python",
   "name": "python",
   "nbconvert_exporter": "python",
   "pygments_lexer": "ipython3",
   "version": "3.13.4"
  }
 },
 "nbformat": 4,
 "nbformat_minor": 4
}
