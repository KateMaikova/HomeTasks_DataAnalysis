{
 "cells": [
  {
   "cell_type": "markdown",
   "metadata": {
    "id": "9ngpqNFm8w1a"
   },
   "source": [
    "# Домашнє завдання до теми \"Основи роботи з рядками та математичні операції\""
   ]
  },
  {
   "cell_type": "markdown",
   "metadata": {
    "id": "DEkQSeSyTum-"
   },
   "source": [
    "1. Створіть змінні `a`, `b`, `c` та `d`, задайте їм значення відповідно 101, 210, 111, 402, та обчисліть з допомогою Python наступний вираз:  $$ \\frac{(a+b) * c}{d} $$\n",
    "\n",
    "**Важливо**: тут ми маємо обчислити значення саме з використанням змінних, а не просто чисел, як би ми робили у калькуряторі. Змінні потрібні аби за бажання ми могли змінити їх значення та не переписувати код обчислення виразу, бо він буде працювати для різних значень змінних."
   ]
  },
  {
   "cell_type": "code",
   "execution_count": 1,
   "metadata": {
    "execution": {
     "iopub.execute_input": "2025-06-15T12:46:52.626288Z",
     "iopub.status.busy": "2025-06-15T12:46:52.625500Z",
     "iopub.status.idle": "2025-06-15T12:46:52.631188Z",
     "shell.execute_reply": "2025-06-15T12:46:52.630246Z",
     "shell.execute_reply.started": "2025-06-15T12:46:52.626259Z"
    },
    "id": "u1ICQq5L3eKH"
   },
   "outputs": [],
   "source": [
    "a = 101\n",
    "b = 210\n",
    "c = 111\n",
    "d = 402"
   ]
  },
  {
   "cell_type": "code",
   "execution_count": 2,
   "metadata": {
    "execution": {
     "iopub.execute_input": "2025-06-15T12:47:12.169997Z",
     "iopub.status.busy": "2025-06-15T12:47:12.169714Z",
     "iopub.status.idle": "2025-06-15T12:47:12.175454Z",
     "shell.execute_reply": "2025-06-15T12:47:12.174717Z",
     "shell.execute_reply.started": "2025-06-15T12:47:12.169979Z"
    }
   },
   "outputs": [
    {
     "name": "stdout",
     "output_type": "stream",
     "text": [
      "101 210 111 402\n"
     ]
    }
   ],
   "source": [
    "print (a, b, c, d)"
   ]
  },
  {
   "cell_type": "code",
   "execution_count": 3,
   "metadata": {
    "execution": {
     "iopub.execute_input": "2025-06-15T12:47:57.087487Z",
     "iopub.status.busy": "2025-06-15T12:47:57.087116Z",
     "iopub.status.idle": "2025-06-15T12:47:57.093077Z",
     "shell.execute_reply": "2025-06-15T12:47:57.092081Z",
     "shell.execute_reply.started": "2025-06-15T12:47:57.087467Z"
    }
   },
   "outputs": [
    {
     "name": "stdout",
     "output_type": "stream",
     "text": [
      "85.8731343283582\n"
     ]
    }
   ],
   "source": [
    "print ((a + b) * c / d)"
   ]
  },
  {
   "cell_type": "markdown",
   "metadata": {
    "id": "FnBVPt7G3bcR"
   },
   "source": [
    "Очікувана відповідь: 85.8731343283582"
   ]
  },
  {
   "cell_type": "markdown",
   "metadata": {
    "id": "HI3eEYZRT4Cn"
   },
   "source": [
    "2. Якою буде остача від ділення числа 11283 на 89? Обчисліть з допомогою Python."
   ]
  },
  {
   "cell_type": "code",
   "execution_count": 4,
   "metadata": {
    "execution": {
     "iopub.execute_input": "2025-06-15T12:49:07.346839Z",
     "iopub.status.busy": "2025-06-15T12:49:07.346458Z",
     "iopub.status.idle": "2025-06-15T12:49:07.350998Z",
     "shell.execute_reply": "2025-06-15T12:49:07.350275Z",
     "shell.execute_reply.started": "2025-06-15T12:49:07.346813Z"
    },
    "id": "ejZc3ng_TpgY"
   },
   "outputs": [],
   "source": [
    "e = 11283\n",
    "f = 89"
   ]
  },
  {
   "cell_type": "code",
   "execution_count": 5,
   "metadata": {
    "execution": {
     "iopub.execute_input": "2025-06-15T12:53:57.885267Z",
     "iopub.status.busy": "2025-06-15T12:53:57.884030Z",
     "iopub.status.idle": "2025-06-15T12:53:57.890518Z",
     "shell.execute_reply": "2025-06-15T12:53:57.889954Z",
     "shell.execute_reply.started": "2025-06-15T12:53:57.885222Z"
    }
   },
   "outputs": [
    {
     "name": "stdout",
     "output_type": "stream",
     "text": [
      "69\n"
     ]
    }
   ],
   "source": [
    "print (e % f)"
   ]
  },
  {
   "cell_type": "markdown",
   "metadata": {
    "id": "RO02CqdqT9oG"
   },
   "source": [
    "3. Скільки цілих разів поміститься число 89 в 11283? (Або що те саме: який буде результат цілочисельного ділення 11283 на 89?)"
   ]
  },
  {
   "cell_type": "code",
   "execution_count": 6,
   "metadata": {
    "execution": {
     "iopub.execute_input": "2025-06-15T13:01:43.215093Z",
     "iopub.status.busy": "2025-06-15T13:01:43.214370Z",
     "iopub.status.idle": "2025-06-15T13:01:43.220334Z",
     "shell.execute_reply": "2025-06-15T13:01:43.219229Z",
     "shell.execute_reply.started": "2025-06-15T13:01:43.215071Z"
    },
    "id": "KEUb9lO5T_PI"
   },
   "outputs": [
    {
     "name": "stdout",
     "output_type": "stream",
     "text": [
      "126\n"
     ]
    }
   ],
   "source": [
    "print (e // f)"
   ]
  },
  {
   "cell_type": "markdown",
   "metadata": {
    "id": "5fnIPumiT_rt"
   },
   "source": [
    "4. Запишіть у змінну `name` ваше імʼя."
   ]
  },
  {
   "cell_type": "code",
   "execution_count": 10,
   "metadata": {
    "execution": {
     "iopub.execute_input": "2025-06-15T13:03:25.028020Z",
     "iopub.status.busy": "2025-06-15T13:03:25.027168Z",
     "iopub.status.idle": "2025-06-15T13:03:25.031760Z",
     "shell.execute_reply": "2025-06-15T13:03:25.030711Z",
     "shell.execute_reply.started": "2025-06-15T13:03:25.027999Z"
    },
    "id": "xP7Mbq45UFlV"
   },
   "outputs": [],
   "source": [
    "name = 'Катерина'"
   ]
  },
  {
   "cell_type": "code",
   "execution_count": 11,
   "metadata": {
    "execution": {
     "iopub.execute_input": "2025-06-15T13:03:26.029283Z",
     "iopub.status.busy": "2025-06-15T13:03:26.028793Z",
     "iopub.status.idle": "2025-06-15T13:03:26.037690Z",
     "shell.execute_reply": "2025-06-15T13:03:26.036304Z",
     "shell.execute_reply.started": "2025-06-15T13:03:26.029265Z"
    }
   },
   "outputs": [
    {
     "data": {
      "text/plain": [
       "'Катерина'"
      ]
     },
     "execution_count": 11,
     "metadata": {},
     "output_type": "execute_result"
    }
   ],
   "source": [
    "name"
   ]
  },
  {
   "cell_type": "markdown",
   "metadata": {
    "id": "fR9TqY79UNDL"
   },
   "source": [
    "5. Запишіть у змінну `surname` ваше прізвище."
   ]
  },
  {
   "cell_type": "code",
   "execution_count": 12,
   "metadata": {
    "execution": {
     "iopub.execute_input": "2025-06-15T13:04:54.646293Z",
     "iopub.status.busy": "2025-06-15T13:04:54.645886Z",
     "iopub.status.idle": "2025-06-15T13:04:54.650739Z",
     "shell.execute_reply": "2025-06-15T13:04:54.649836Z",
     "shell.execute_reply.started": "2025-06-15T13:04:54.646275Z"
    },
    "id": "0qHjyMyvUOM1"
   },
   "outputs": [],
   "source": [
    "surname = 'Майкова'"
   ]
  },
  {
   "cell_type": "code",
   "execution_count": 13,
   "metadata": {
    "execution": {
     "iopub.execute_input": "2025-06-15T13:05:04.861746Z",
     "iopub.status.busy": "2025-06-15T13:05:04.861148Z",
     "iopub.status.idle": "2025-06-15T13:05:04.867636Z",
     "shell.execute_reply": "2025-06-15T13:05:04.866649Z",
     "shell.execute_reply.started": "2025-06-15T13:05:04.861721Z"
    }
   },
   "outputs": [
    {
     "data": {
      "text/plain": [
       "'Майкова'"
      ]
     },
     "execution_count": 13,
     "metadata": {},
     "output_type": "execute_result"
    }
   ],
   "source": [
    "surname"
   ]
  },
  {
   "cell_type": "markdown",
   "metadata": {
    "id": "zqKncQLwUOxh"
   },
   "source": [
    "6. Сконкатенуйте імʼя та прізвище в одну фразу через пробіл. Запишіть результат у нову змінну `name_surname` та виведіть результат на екран.  "
   ]
  },
  {
   "cell_type": "code",
   "execution_count": 14,
   "metadata": {
    "execution": {
     "iopub.execute_input": "2025-06-15T13:08:17.110158Z",
     "iopub.status.busy": "2025-06-15T13:08:17.109193Z",
     "iopub.status.idle": "2025-06-15T13:08:17.114382Z",
     "shell.execute_reply": "2025-06-15T13:08:17.113460Z",
     "shell.execute_reply.started": "2025-06-15T13:08:17.110133Z"
    },
    "id": "8E-blvN-UTPg"
   },
   "outputs": [],
   "source": [
    "name_surname = name + \" \" + surname"
   ]
  },
  {
   "cell_type": "code",
   "execution_count": 15,
   "metadata": {
    "execution": {
     "iopub.execute_input": "2025-06-15T13:08:34.353186Z",
     "iopub.status.busy": "2025-06-15T13:08:34.352872Z",
     "iopub.status.idle": "2025-06-15T13:08:34.358254Z",
     "shell.execute_reply": "2025-06-15T13:08:34.357554Z",
     "shell.execute_reply.started": "2025-06-15T13:08:34.353167Z"
    }
   },
   "outputs": [
    {
     "data": {
      "text/plain": [
       "'Катерина Майкова'"
      ]
     },
     "execution_count": 15,
     "metadata": {},
     "output_type": "execute_result"
    }
   ],
   "source": [
    "name_surname"
   ]
  },
  {
   "cell_type": "markdown",
   "metadata": {
    "id": "_Unl7EXlUgYn"
   },
   "source": [
    "Очікувана відповідь (тільки з вашими даними): 'Hanna Pylieva'"
   ]
  },
  {
   "cell_type": "markdown",
   "metadata": {
    "id": "z-3FI0IrUT0U"
   },
   "source": [
    "7. Зробіть усі літери змінної `name_surname` заглавними використовуючи метод рядків в Python:"
   ]
  },
  {
   "cell_type": "code",
   "execution_count": 16,
   "metadata": {
    "execution": {
     "iopub.execute_input": "2025-06-15T13:09:30.944894Z",
     "iopub.status.busy": "2025-06-15T13:09:30.944269Z",
     "iopub.status.idle": "2025-06-15T13:09:30.950596Z",
     "shell.execute_reply": "2025-06-15T13:09:30.949553Z",
     "shell.execute_reply.started": "2025-06-15T13:09:30.944874Z"
    },
    "id": "9ahIwyT5UblY"
   },
   "outputs": [
    {
     "data": {
      "text/plain": [
       "'КАТЕРИНА МАЙКОВА'"
      ]
     },
     "execution_count": 16,
     "metadata": {},
     "output_type": "execute_result"
    }
   ],
   "source": [
    "name_surname.upper()"
   ]
  },
  {
   "cell_type": "markdown",
   "metadata": {
    "id": "6PDcqfmdUcLo"
   },
   "source": [
    "Очікувана відповідь (тільки з вашими даними): 'HANNA PYLIEVA'"
   ]
  },
  {
   "cell_type": "markdown",
   "metadata": {
    "id": "qNl8KxeXUtnL"
   },
   "source": [
    "8. Виведіть третю літеру вашого `name_surname`. Тут уважно, треба саме третя літера. Згадайте, з якого значення починається індексування значень в Python."
   ]
  },
  {
   "cell_type": "code",
   "execution_count": 17,
   "metadata": {
    "execution": {
     "iopub.execute_input": "2025-06-15T13:11:28.507805Z",
     "iopub.status.busy": "2025-06-15T13:11:28.507515Z",
     "iopub.status.idle": "2025-06-15T13:11:28.512540Z",
     "shell.execute_reply": "2025-06-15T13:11:28.511823Z",
     "shell.execute_reply.started": "2025-06-15T13:11:28.507787Z"
    },
    "id": "Tp7stqAhUvJz"
   },
   "outputs": [
    {
     "data": {
      "text/plain": [
       "'т'"
      ]
     },
     "execution_count": 17,
     "metadata": {},
     "output_type": "execute_result"
    }
   ],
   "source": [
    "name_surname[2]"
   ]
  },
  {
   "cell_type": "markdown",
   "metadata": {
    "id": "GYWHqb3UUvqk"
   },
   "source": [
    "Очікувана відповідь (тільки з вашими даними): 'n'"
   ]
  },
  {
   "cell_type": "markdown",
   "metadata": {
    "id": "1f3cc1a7",
    "pycharm": {
     "name": "#%% md\n"
    }
   },
   "source": [
    "9. Виведіть першу та останню літеру вашого прізвища."
   ]
  },
  {
   "cell_type": "code",
   "execution_count": 20,
   "metadata": {
    "execution": {
     "iopub.execute_input": "2025-06-15T13:13:02.551788Z",
     "iopub.status.busy": "2025-06-15T13:13:02.551385Z",
     "iopub.status.idle": "2025-06-15T13:13:02.556652Z",
     "shell.execute_reply": "2025-06-15T13:13:02.556003Z",
     "shell.execute_reply.started": "2025-06-15T13:13:02.551769Z"
    }
   },
   "outputs": [
    {
     "data": {
      "text/plain": [
       "7"
      ]
     },
     "execution_count": 20,
     "metadata": {},
     "output_type": "execute_result"
    }
   ],
   "source": [
    "len(surname)"
   ]
  },
  {
   "cell_type": "code",
   "execution_count": 22,
   "metadata": {
    "execution": {
     "iopub.execute_input": "2025-06-15T13:13:24.327096Z",
     "iopub.status.busy": "2025-06-15T13:13:24.326748Z",
     "iopub.status.idle": "2025-06-15T13:13:24.333545Z",
     "shell.execute_reply": "2025-06-15T13:13:24.332445Z",
     "shell.execute_reply.started": "2025-06-15T13:13:24.327081Z"
    },
    "id": "s1ZgN3xuUyB8"
   },
   "outputs": [
    {
     "data": {
      "text/plain": [
       "('М', 'а')"
      ]
     },
     "execution_count": 22,
     "metadata": {},
     "output_type": "execute_result"
    }
   ],
   "source": [
    "surname [0], surname [6]"
   ]
  },
  {
   "cell_type": "markdown",
   "metadata": {
    "id": "KjlFjjhHVAt2"
   },
   "source": [
    "Очікувана відповідь (тільки з вашими даними): ('P', 'a')"
   ]
  },
  {
   "cell_type": "markdown",
   "metadata": {
    "id": "UYLoho3DVMt2"
   },
   "source": [
    "10. Виведіть довжину вашого прізвища."
   ]
  },
  {
   "cell_type": "code",
   "execution_count": 23,
   "metadata": {
    "execution": {
     "iopub.execute_input": "2025-06-15T13:14:07.296247Z",
     "iopub.status.busy": "2025-06-15T13:14:07.295966Z",
     "iopub.status.idle": "2025-06-15T13:14:07.302230Z",
     "shell.execute_reply": "2025-06-15T13:14:07.301553Z",
     "shell.execute_reply.started": "2025-06-15T13:14:07.296229Z"
    },
    "id": "0TPJBh0LVA8q"
   },
   "outputs": [
    {
     "data": {
      "text/plain": [
       "7"
      ]
     },
     "execution_count": 23,
     "metadata": {},
     "output_type": "execute_result"
    }
   ],
   "source": [
    "len(surname)"
   ]
  },
  {
   "cell_type": "markdown",
   "metadata": {
    "id": "9FaxqvVgVRYW"
   },
   "source": [
    "Очікувана відповідь (тільки з вашими даними): 7\n"
   ]
  },
  {
   "cell_type": "markdown",
   "metadata": {
    "id": "JN2wxSlGVVAj"
   },
   "source": [
    "11. Виведіть кількість літер `a` у столиці Мадагаскару `Antananarivo`. Важливо врахувати всі літери, як великі, так і маленькі."
   ]
  },
  {
   "cell_type": "code",
   "execution_count": 25,
   "metadata": {
    "execution": {
     "iopub.execute_input": "2025-06-15T13:31:42.424216Z",
     "iopub.status.busy": "2025-06-15T13:31:42.423921Z",
     "iopub.status.idle": "2025-06-15T13:31:42.428774Z",
     "shell.execute_reply": "2025-06-15T13:31:42.427986Z",
     "shell.execute_reply.started": "2025-06-15T13:31:42.424199Z"
    },
    "id": "LCeHHz9bVUgL"
   },
   "outputs": [],
   "source": [
    "capital = 'Antananarivo'"
   ]
  },
  {
   "cell_type": "code",
   "execution_count": 30,
   "metadata": {
    "execution": {
     "iopub.execute_input": "2025-06-15T13:38:53.337793Z",
     "iopub.status.busy": "2025-06-15T13:38:53.337327Z",
     "iopub.status.idle": "2025-06-15T13:38:53.341688Z",
     "shell.execute_reply": "2025-06-15T13:38:53.340752Z",
     "shell.execute_reply.started": "2025-06-15T13:38:53.337772Z"
    }
   },
   "outputs": [],
   "source": [
    "cnt_a = capital.lower().count('a')"
   ]
  },
  {
   "cell_type": "code",
   "execution_count": 31,
   "metadata": {
    "execution": {
     "iopub.execute_input": "2025-06-15T13:38:56.047865Z",
     "iopub.status.busy": "2025-06-15T13:38:56.047315Z",
     "iopub.status.idle": "2025-06-15T13:38:56.053353Z",
     "shell.execute_reply": "2025-06-15T13:38:56.052519Z",
     "shell.execute_reply.started": "2025-06-15T13:38:56.047848Z"
    }
   },
   "outputs": [
    {
     "data": {
      "text/plain": [
       "4"
      ]
     },
     "execution_count": 31,
     "metadata": {},
     "output_type": "execute_result"
    }
   ],
   "source": [
    "cnt_a"
   ]
  },
  {
   "cell_type": "markdown",
   "metadata": {
    "id": "Ux4SQiuSVo92"
   },
   "source": [
    "Очікувана відповідь: 4"
   ]
  },
  {
   "cell_type": "markdown",
   "metadata": {
    "id": "mwEs0xnmVtes"
   },
   "source": [
    "12. Створіть рядок `my_string` зі значенням: \"The quick brown fox jumps over the lazy dog!!!\".   \n",
    "Перевірте, чи починається рядок `my_string` з \"The\" і чи закінчується він \"dog!\". Виведіть результати на екран."
   ]
  },
  {
   "cell_type": "code",
   "execution_count": 32,
   "metadata": {
    "execution": {
     "iopub.execute_input": "2025-06-15T13:39:31.537145Z",
     "iopub.status.busy": "2025-06-15T13:39:31.536786Z",
     "iopub.status.idle": "2025-06-15T13:39:31.541298Z",
     "shell.execute_reply": "2025-06-15T13:39:31.540219Z",
     "shell.execute_reply.started": "2025-06-15T13:39:31.537129Z"
    },
    "id": "VlXDNpXcVs59"
   },
   "outputs": [],
   "source": [
    "my_string = \"The quick brown fox jumps over the lazy dog!!!\""
   ]
  },
  {
   "cell_type": "code",
   "execution_count": 33,
   "metadata": {
    "execution": {
     "iopub.execute_input": "2025-06-15T13:40:36.666869Z",
     "iopub.status.busy": "2025-06-15T13:40:36.666561Z",
     "iopub.status.idle": "2025-06-15T13:40:36.671186Z",
     "shell.execute_reply": "2025-06-15T13:40:36.670301Z",
     "shell.execute_reply.started": "2025-06-15T13:40:36.666852Z"
    }
   },
   "outputs": [
    {
     "name": "stdout",
     "output_type": "stream",
     "text": [
      "True\n",
      "False\n"
     ]
    }
   ],
   "source": [
    "print(my_string.startswith(\"The\"))\n",
    "print(my_string.endswith(\"dog\"))"
   ]
  },
  {
   "cell_type": "markdown",
   "metadata": {
    "id": "Yc-UwtqvV_h0"
   },
   "source": [
    "13. Розділіть рядок `my_string` на список окремих слів, а потім з'єднайте всі слова через нижнє підкреслювання. Виведіть результат на екран."
   ]
  },
  {
   "cell_type": "code",
   "execution_count": 36,
   "metadata": {
    "execution": {
     "iopub.execute_input": "2025-06-15T13:41:45.469314Z",
     "iopub.status.busy": "2025-06-15T13:41:45.469002Z",
     "iopub.status.idle": "2025-06-15T13:41:45.473924Z",
     "shell.execute_reply": "2025-06-15T13:41:45.473089Z",
     "shell.execute_reply.started": "2025-06-15T13:41:45.469296Z"
    },
    "id": "m5I48Ii-WDSK"
   },
   "outputs": [
    {
     "name": "stdout",
     "output_type": "stream",
     "text": [
      "['The', 'quick', 'brown', 'fox', 'jumps', 'over', 'the', 'lazy', 'dog!!!']\n"
     ]
    }
   ],
   "source": [
    "print(my_string.split())"
   ]
  },
  {
   "cell_type": "code",
   "execution_count": 37,
   "metadata": {
    "execution": {
     "iopub.execute_input": "2025-06-15T13:43:11.144570Z",
     "iopub.status.busy": "2025-06-15T13:43:11.144224Z",
     "iopub.status.idle": "2025-06-15T13:43:11.150639Z",
     "shell.execute_reply": "2025-06-15T13:43:11.149770Z",
     "shell.execute_reply.started": "2025-06-15T13:43:11.144553Z"
    }
   },
   "outputs": [
    {
     "data": {
      "text/plain": [
       "'The_quick_brown_fox_jumps_over_the_lazy_dog!!!'"
      ]
     },
     "execution_count": 37,
     "metadata": {},
     "output_type": "execute_result"
    }
   ],
   "source": [
    "\"_\".join(['The', 'quick', 'brown', 'fox', 'jumps', 'over', 'the', 'lazy', 'dog!!!'])"
   ]
  },
  {
   "cell_type": "markdown",
   "metadata": {
    "id": "UqvD1_jIXRhx"
   },
   "source": [
    "Очікуваний результат: `The_quick_brown_fox_jumps_over_the_lazy_dog!!!`"
   ]
  },
  {
   "cell_type": "code",
   "execution_count": 7,
   "metadata": {
    "execution": {
     "iopub.execute_input": "2025-06-15T13:58:12.492340Z",
     "iopub.status.busy": "2025-06-15T13:58:12.492043Z",
     "iopub.status.idle": "2025-06-15T13:58:12.497828Z",
     "shell.execute_reply": "2025-06-15T13:58:12.496770Z",
     "shell.execute_reply.started": "2025-06-15T13:58:12.492320Z"
    }
   },
   "outputs": [
    {
     "name": "stdout",
     "output_type": "stream",
     "text": [
      "Дякую за цікавий урок\n",
      "та легко поданий матеріал!\n",
      "💌\n"
     ]
    }
   ],
   "source": [
    "print ('Дякую за цікавий урок\\nта легко поданий матеріал!\\n\\U0001F48C')"
   ]
  }
 ],
 "metadata": {
  "colab": {
   "provenance": []
  },
  "kernelspec": {
   "display_name": "Python 3 (ipykernel)",
   "language": "python",
   "name": "python3"
  },
  "language_info": {
   "codemirror_mode": {
    "name": "ipython",
    "version": 3
   },
   "file_extension": ".py",
   "mimetype": "text/x-python",
   "name": "python",
   "nbconvert_exporter": "python",
   "pygments_lexer": "ipython3",
   "version": "3.13.4"
  }
 },
 "nbformat": 4,
 "nbformat_minor": 4
}
