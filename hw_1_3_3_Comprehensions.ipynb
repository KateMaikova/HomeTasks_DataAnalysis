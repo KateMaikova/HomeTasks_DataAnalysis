{
 "cells": [
  {
   "cell_type": "markdown",
   "metadata": {
    "id": "jGTe7raw9lB_"
   },
   "source": [
    "#Домашнє завдання до теми \"Comprehensions в Python\""
   ]
  },
  {
   "cell_type": "markdown",
   "metadata": {
    "id": "grIbI4ZZ7miJ"
   },
   "source": [
    "Для наступних завдань у нас є наступний список:"
   ]
  },
  {
   "cell_type": "code",
   "execution_count": 1,
   "metadata": {
    "execution": {
     "iopub.execute_input": "2025-07-05T16:59:40.508679Z",
     "iopub.status.busy": "2025-07-05T16:59:40.508366Z",
     "iopub.status.idle": "2025-07-05T16:59:40.513580Z",
     "shell.execute_reply": "2025-07-05T16:59:40.512521Z",
     "shell.execute_reply.started": "2025-07-05T16:59:40.508659Z"
    },
    "id": "nFOAtgsP7nnc"
   },
   "outputs": [],
   "source": [
    "numbers = [42, 51, 29, 2, 13, 44, 80, 66, 16]"
   ]
  },
  {
   "cell_type": "code",
   "execution_count": 17,
   "metadata": {
    "execution": {
     "iopub.execute_input": "2025-07-05T17:08:43.726131Z",
     "iopub.status.busy": "2025-07-05T17:08:43.725669Z",
     "iopub.status.idle": "2025-07-05T17:08:43.731075Z",
     "shell.execute_reply": "2025-07-05T17:08:43.730089Z",
     "shell.execute_reply.started": "2025-07-05T17:08:43.726104Z"
    }
   },
   "outputs": [
    {
     "data": {
      "text/plain": [
       "[42, 51, 29, 2, 13, 44, 80, 66, 16]"
      ]
     },
     "execution_count": 17,
     "metadata": {},
     "output_type": "execute_result"
    }
   ],
   "source": [
    "numbers"
   ]
  },
  {
   "cell_type": "markdown",
   "metadata": {
    "id": "_sRe19Ym6zDc"
   },
   "source": [
    "1. Використовуючи цикл `for` cтворіть новий список `numbers_squared`, де кожен елемент списку `numbers` є домноженим на 2.\n",
    "\n",
    "Нагадаю, що фактично коли ми з допомогою циклу отримуємо новий список, то ми спочатку створюємо пустий список, а потім додаємо в нього новий елемент на кожній ітерації.\n",
    "\n",
    "Новий елемент буде в даному випадку результатом домножання чергового елемента вихідного списку `numbers` на 2."
   ]
  },
  {
   "cell_type": "code",
   "execution_count": 23,
   "metadata": {
    "execution": {
     "iopub.execute_input": "2025-07-05T17:09:57.950496Z",
     "iopub.status.busy": "2025-07-05T17:09:57.950042Z",
     "iopub.status.idle": "2025-07-05T17:09:57.954934Z",
     "shell.execute_reply": "2025-07-05T17:09:57.954003Z",
     "shell.execute_reply.started": "2025-07-05T17:09:57.950475Z"
    }
   },
   "outputs": [],
   "source": [
    "numbers_squared = []"
   ]
  },
  {
   "cell_type": "code",
   "execution_count": 26,
   "metadata": {
    "execution": {
     "iopub.execute_input": "2025-07-05T17:10:25.346692Z",
     "iopub.status.busy": "2025-07-05T17:10:25.346177Z",
     "iopub.status.idle": "2025-07-05T17:10:25.351188Z",
     "shell.execute_reply": "2025-07-05T17:10:25.350453Z",
     "shell.execute_reply.started": "2025-07-05T17:10:25.346670Z"
    }
   },
   "outputs": [],
   "source": [
    "for number in numbers:\n",
    "    new = number * 2\n",
    "    numbers_squared.append(new) "
   ]
  },
  {
   "cell_type": "code",
   "execution_count": 25,
   "metadata": {
    "execution": {
     "iopub.execute_input": "2025-07-05T17:10:21.771729Z",
     "iopub.status.busy": "2025-07-05T17:10:21.771246Z",
     "iopub.status.idle": "2025-07-05T17:10:21.775535Z",
     "shell.execute_reply": "2025-07-05T17:10:21.774765Z",
     "shell.execute_reply.started": "2025-07-05T17:10:21.771709Z"
    }
   },
   "outputs": [
    {
     "name": "stdout",
     "output_type": "stream",
     "text": [
      "[84, 102, 58, 4, 26, 88, 160, 132, 32]\n"
     ]
    }
   ],
   "source": [
    " print(numbers_squared)"
   ]
  },
  {
   "cell_type": "markdown",
   "metadata": {
    "id": "XKpWtN8N64np"
   },
   "source": [
    "Очікуваний результат: `[84, 102, 58, 4, 26, 88, 160, 132, 32]`"
   ]
  },
  {
   "cell_type": "markdown",
   "metadata": {
    "id": "aHmdOLkZ7eQ2"
   },
   "source": [
    "2. Використовуючи `list comprehension` cтворіть новий список `numbers_squared_lh`, де кожен елемент списку `numbers` є домноженим 2.\n",
    "Так, операція, яку ми викнуємо над кожним елементом вихідного списку, та сама, що і в попередньому завданні, але інший спосіб отримання результату."
   ]
  },
  {
   "cell_type": "code",
   "execution_count": 27,
   "metadata": {
    "execution": {
     "iopub.execute_input": "2025-07-05T17:12:09.755227Z",
     "iopub.status.busy": "2025-07-05T17:12:09.754613Z",
     "iopub.status.idle": "2025-07-05T17:12:09.760879Z",
     "shell.execute_reply": "2025-07-05T17:12:09.760013Z",
     "shell.execute_reply.started": "2025-07-05T17:12:09.755206Z"
    },
    "id": "fsKlUM9x7T7n"
   },
   "outputs": [
    {
     "data": {
      "text/plain": [
       "[84, 102, 58, 4, 26, 88, 160, 132, 32]"
      ]
     },
     "execution_count": 27,
     "metadata": {},
     "output_type": "execute_result"
    }
   ],
   "source": [
    "numbers_squared = [number * 2 for number in numbers]\n",
    "numbers_squared"
   ]
  },
  {
   "cell_type": "markdown",
   "metadata": {
    "id": "tKpPGIQN7fc5"
   },
   "source": [
    "3. У нас вже є знайдене середнє значення за списком - воно визначене в змінній `numbers_mean`.\n",
    "\n",
    "  Використовуючи цикл, створіть новий список `numbers_gt_mean`, який порівнює кожен елемент з цим середнім значенням за списком за наступним правилом: \"якщо цей елемент спиcку `numbers` є більшим за `numbers_mean`, то запишемо 1, інакше 0\". Виведіть новий список на екран."
   ]
  },
  {
   "cell_type": "code",
   "execution_count": 28,
   "metadata": {
    "execution": {
     "iopub.execute_input": "2025-07-05T17:12:31.103870Z",
     "iopub.status.busy": "2025-07-05T17:12:31.103294Z",
     "iopub.status.idle": "2025-07-05T17:12:31.108276Z",
     "shell.execute_reply": "2025-07-05T17:12:31.107175Z",
     "shell.execute_reply.started": "2025-07-05T17:12:31.103851Z"
    },
    "id": "FKGz-HqgwAdX"
   },
   "outputs": [],
   "source": [
    "numbers_mean = 38.11"
   ]
  },
  {
   "cell_type": "code",
   "execution_count": 41,
   "metadata": {
    "execution": {
     "iopub.execute_input": "2025-07-06T09:02:10.143617Z",
     "iopub.status.busy": "2025-07-06T09:02:10.143229Z",
     "iopub.status.idle": "2025-07-06T09:02:10.148944Z",
     "shell.execute_reply": "2025-07-06T09:02:10.148114Z",
     "shell.execute_reply.started": "2025-07-06T09:02:10.143593Z"
    },
    "id": "obelsT8N72Lp"
   },
   "outputs": [
    {
     "name": "stdout",
     "output_type": "stream",
     "text": [
      "[1, 1, 0, 0, 0, 1, 1, 1, 0]\n"
     ]
    }
   ],
   "source": [
    "numbers_gt_mean = []\n",
    "for number in numbers:\n",
    " if number > numbers_mean: \n",
    "  numbers_gt_mean.append(1)\n",
    " else: \n",
    "  numbers_gt_mean.append(0)\n",
    "print(numbers_gt_mean)"
   ]
  },
  {
   "cell_type": "markdown",
   "metadata": {
    "id": "kRUDVSRs720X"
   },
   "source": [
    "Очікуваний результат: `[1, 1, 0, 0, 0, 1, 1, 1, 0]`"
   ]
  },
  {
   "cell_type": "markdown",
   "metadata": {
    "id": "dudK-NlE76z8"
   },
   "source": [
    "4. Отримайте список за тим самим правилом, що в завданні 3, тільки тепер з list comprehension. Результат запишіть у змінну `numbers_gt_mean_lc`"
   ]
  },
  {
   "cell_type": "code",
   "execution_count": 42,
   "metadata": {
    "execution": {
     "iopub.execute_input": "2025-07-06T09:05:25.650715Z",
     "iopub.status.busy": "2025-07-06T09:05:25.650326Z",
     "iopub.status.idle": "2025-07-06T09:05:25.658219Z",
     "shell.execute_reply": "2025-07-06T09:05:25.657434Z",
     "shell.execute_reply.started": "2025-07-06T09:05:25.650698Z"
    },
    "id": "kpnfXkUu76Ao"
   },
   "outputs": [
    {
     "data": {
      "text/plain": [
       "[1, 1, 0, 0, 0, 1, 1, 1, 0]"
      ]
     },
     "execution_count": 42,
     "metadata": {},
     "output_type": "execute_result"
    }
   ],
   "source": [
    "numbers_gt_mean_lc = [1 if number > numbers_mean else 0 for number in numbers]\n",
    "numbers_gt_mean_lc"
   ]
  },
  {
   "cell_type": "markdown",
   "metadata": {
    "id": "muQmE3Mz8KDx"
   },
   "source": [
    "5. Заданий список `long`. З допомогою циклу створіть словник `n_repeats`, який містить інформацію \"скільки разів повторюється кожен унікальний елемент списку `long`\".\n",
    "Наприклад:\n",
    "```\n",
    "long = [1, 1, 2, 2, 3]\n",
    "# тоді `n_repeats` містить {1: 2, 2: 2, 3: 1}\n",
    "```\n",
    "\n",
    "Аби для кожного унікального елементу знайти, скільки разів він повторюється, виористайте метод списку `list.count(<елемент>)`.\n",
    "Виведіть `n_repeats` на екран.\n",
    "\n",
    "**Підказки**:\n",
    "1. Для початку може бути зручно отримати набір унікальних елементів списку.\n",
    "2. Порядок ключів в словнику не має значення! Тобто ключі в словнику не обовʼязково мають бути в тому ж порядку, як наведено в прикладі результату. Але кількості зустрічань для кожного елемента мають співпадати з наведеними."
   ]
  },
  {
   "cell_type": "code",
   "execution_count": 43,
   "metadata": {
    "execution": {
     "iopub.execute_input": "2025-07-06T09:06:14.658473Z",
     "iopub.status.busy": "2025-07-06T09:06:14.657989Z",
     "iopub.status.idle": "2025-07-06T09:06:14.663468Z",
     "shell.execute_reply": "2025-07-06T09:06:14.662341Z",
     "shell.execute_reply.started": "2025-07-06T09:06:14.658456Z"
    },
    "id": "T_MDOYpa8Khu"
   },
   "outputs": [],
   "source": [
    "long = [75, 39, 95, 1, 91, 43, 97, 24, 86, 75, 92, 91, 15, 15, 75, 95, 54, 29, 55, 98]"
   ]
  },
  {
   "cell_type": "code",
   "execution_count": 44,
   "metadata": {
    "execution": {
     "iopub.execute_input": "2025-07-06T09:06:49.223595Z",
     "iopub.status.busy": "2025-07-06T09:06:49.222995Z",
     "iopub.status.idle": "2025-07-06T09:06:49.228159Z",
     "shell.execute_reply": "2025-07-06T09:06:49.227127Z",
     "shell.execute_reply.started": "2025-07-06T09:06:49.223574Z"
    },
    "id": "FCUf8p3y8RG0"
   },
   "outputs": [],
   "source": [
    "n_repeats = {}"
   ]
  },
  {
   "cell_type": "code",
   "execution_count": 55,
   "metadata": {
    "execution": {
     "iopub.execute_input": "2025-07-06T09:17:08.797530Z",
     "iopub.status.busy": "2025-07-06T09:17:08.797106Z",
     "iopub.status.idle": "2025-07-06T09:17:08.804334Z",
     "shell.execute_reply": "2025-07-06T09:17:08.803470Z",
     "shell.execute_reply.started": "2025-07-06T09:17:08.797510Z"
    }
   },
   "outputs": [
    {
     "data": {
      "text/plain": [
       "{1, 15, 24, 29, 39, 43, 54, 55, 75, 86, 91, 92, 95, 97, 98}"
      ]
     },
     "execution_count": 55,
     "metadata": {},
     "output_type": "execute_result"
    }
   ],
   "source": [
    "uniq = set(long)\n",
    "uniq"
   ]
  },
  {
   "cell_type": "code",
   "execution_count": 57,
   "metadata": {
    "execution": {
     "iopub.execute_input": "2025-07-06T09:18:30.688103Z",
     "iopub.status.busy": "2025-07-06T09:18:30.687722Z",
     "iopub.status.idle": "2025-07-06T09:18:30.691934Z",
     "shell.execute_reply": "2025-07-06T09:18:30.691117Z",
     "shell.execute_reply.started": "2025-07-06T09:18:30.688085Z"
    }
   },
   "outputs": [],
   "source": [
    "for el in uniq:\n",
    " count = long.count(el)\n",
    " n_repeats[el] = count"
   ]
  },
  {
   "cell_type": "code",
   "execution_count": 63,
   "metadata": {
    "execution": {
     "iopub.execute_input": "2025-07-06T09:20:04.637152Z",
     "iopub.status.busy": "2025-07-06T09:20:04.636376Z",
     "iopub.status.idle": "2025-07-06T09:20:04.642526Z",
     "shell.execute_reply": "2025-07-06T09:20:04.641619Z",
     "shell.execute_reply.started": "2025-07-06T09:20:04.637131Z"
    }
   },
   "outputs": [
    {
     "data": {
      "text/plain": [
       "{1: 1,\n",
       " 97: 1,\n",
       " 98: 1,\n",
       " 39: 1,\n",
       " 75: 3,\n",
       " 43: 1,\n",
       " 15: 2,\n",
       " 55: 1,\n",
       " 86: 1,\n",
       " 54: 1,\n",
       " 24: 1,\n",
       " 91: 2,\n",
       " 92: 1,\n",
       " 29: 1,\n",
       " 95: 2}"
      ]
     },
     "execution_count": 63,
     "metadata": {},
     "output_type": "execute_result"
    }
   ],
   "source": [
    "n_repeats"
   ]
  },
  {
   "cell_type": "markdown",
   "metadata": {
    "id": "WQbGyWde8RkT"
   },
   "source": [
    "Очікуваний результат:\n",
    "```\n",
    "{1: 1, 97: 1, 98: 1, 39: 1, 75: 3, 43: 1, 15: 2, 55: 1, 86: 1, 54: 1, 24: 1, 91: 2, 92: 1, 29: 1, 95: 2}\n",
    "\n",
    "```"
   ]
  },
  {
   "cell_type": "markdown",
   "metadata": {
    "id": "W-nelSSP8VeG"
   },
   "source": [
    "6. Виконайте ту саму операцію, що і в попередньому заваднні, але використовуючи `dict comprehension`. Результат запишіть у змінну `n_repeats_dh` та результат виведіть на екран."
   ]
  },
  {
   "cell_type": "code",
   "execution_count": 65,
   "metadata": {
    "execution": {
     "iopub.execute_input": "2025-07-06T09:24:12.371535Z",
     "iopub.status.busy": "2025-07-06T09:24:12.370826Z",
     "iopub.status.idle": "2025-07-06T09:24:12.378053Z",
     "shell.execute_reply": "2025-07-06T09:24:12.377113Z",
     "shell.execute_reply.started": "2025-07-06T09:24:12.371516Z"
    },
    "id": "gDz_kE0N8YM4"
   },
   "outputs": [
    {
     "data": {
      "text/plain": [
       "{1: 1,\n",
       " 97: 1,\n",
       " 98: 1,\n",
       " 39: 1,\n",
       " 75: 3,\n",
       " 43: 1,\n",
       " 15: 2,\n",
       " 55: 1,\n",
       " 86: 1,\n",
       " 54: 1,\n",
       " 24: 1,\n",
       " 91: 2,\n",
       " 92: 1,\n",
       " 29: 1,\n",
       " 95: 2}"
      ]
     },
     "execution_count": 65,
     "metadata": {},
     "output_type": "execute_result"
    }
   ],
   "source": [
    "uniq = set(long)\n",
    "n_repeats_dh = {el: long.count(el) for el in uniq}\n",
    "n_repeats_dh"
   ]
  },
  {
   "cell_type": "markdown",
   "metadata": {
    "id": "Th5wKghw8aYj"
   },
   "source": [
    "7. Знайдіть три найменші **унікальні** елементи в списку `long` та виведіть їх на екран."
   ]
  },
  {
   "cell_type": "code",
   "execution_count": 73,
   "metadata": {
    "execution": {
     "iopub.execute_input": "2025-07-06T09:29:29.777089Z",
     "iopub.status.busy": "2025-07-06T09:29:29.776668Z",
     "iopub.status.idle": "2025-07-06T09:29:29.782289Z",
     "shell.execute_reply": "2025-07-06T09:29:29.781502Z",
     "shell.execute_reply.started": "2025-07-06T09:29:29.777069Z"
    },
    "id": "NG9PvlnK8a2Q"
   },
   "outputs": [
    {
     "data": {
      "text/plain": [
       "[1, 15, 24]"
      ]
     },
     "execution_count": 73,
     "metadata": {},
     "output_type": "execute_result"
    }
   ],
   "source": [
    "new = sorted(list(uniq))\n",
    "new[:3]"
   ]
  },
  {
   "cell_type": "markdown",
   "metadata": {
    "id": "XOW0GDBK8cn7"
   },
   "source": [
    "Очікувана відповідь: [1, 15, 24]"
   ]
  }
 ],
 "metadata": {
  "colab": {
   "provenance": []
  },
  "kernelspec": {
   "display_name": "Python 3 (ipykernel)",
   "language": "python",
   "name": "python3"
  },
  "language_info": {
   "codemirror_mode": {
    "name": "ipython",
    "version": 3
   },
   "file_extension": ".py",
   "mimetype": "text/x-python",
   "name": "python",
   "nbconvert_exporter": "python",
   "pygments_lexer": "ipython3",
   "version": "3.13.4"
  }
 },
 "nbformat": 4,
 "nbformat_minor": 4
}
