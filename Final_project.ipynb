{
 "cells": [
  {
   "cell_type": "code",
   "execution_count": 1,
   "id": "dc9b80fc-72dd-490c-9bfa-5c57b866ed64",
   "metadata": {
    "execution": {
     "iopub.execute_input": "2025-10-12T17:52:41.849859Z",
     "iopub.status.busy": "2025-10-12T17:52:41.849479Z",
     "iopub.status.idle": "2025-10-12T17:52:45.107471Z",
     "shell.execute_reply": "2025-10-12T17:52:45.106704Z",
     "shell.execute_reply.started": "2025-10-12T17:52:41.849825Z"
    }
   },
   "outputs": [],
   "source": [
    "import pandas as pd"
   ]
  },
  {
   "cell_type": "code",
   "execution_count": 2,
   "id": "e5e103cb-73b0-484c-a259-2f0b92017cc1",
   "metadata": {
    "execution": {
     "iopub.execute_input": "2025-10-12T17:54:33.822139Z",
     "iopub.status.busy": "2025-10-12T17:54:33.821565Z",
     "iopub.status.idle": "2025-10-12T17:54:34.426024Z",
     "shell.execute_reply": "2025-10-12T17:54:34.425136Z",
     "shell.execute_reply.started": "2025-10-12T17:54:33.822115Z"
    }
   },
   "outputs": [],
   "source": [
    "path = r\"D:/DataLovesAcademy/Final_project/medical_insurance.csv\"\n",
    "df = pd.read_csv(path)"
   ]
  },
  {
   "cell_type": "code",
   "execution_count": 3,
   "id": "5f143afc-d389-46e1-92a0-67b687bc7b47",
   "metadata": {
    "execution": {
     "iopub.execute_input": "2025-10-12T17:54:54.269862Z",
     "iopub.status.busy": "2025-10-12T17:54:54.269383Z",
     "iopub.status.idle": "2025-10-12T17:54:54.321639Z",
     "shell.execute_reply": "2025-10-12T17:54:54.320754Z",
     "shell.execute_reply.started": "2025-10-12T17:54:54.269843Z"
    }
   },
   "outputs": [
    {
     "data": {
      "text/html": [
       "<div>\n",
       "<style scoped>\n",
       "    .dataframe tbody tr th:only-of-type {\n",
       "        vertical-align: middle;\n",
       "    }\n",
       "\n",
       "    .dataframe tbody tr th {\n",
       "        vertical-align: top;\n",
       "    }\n",
       "\n",
       "    .dataframe thead th {\n",
       "        text-align: right;\n",
       "    }\n",
       "</style>\n",
       "<table border=\"1\" class=\"dataframe\">\n",
       "  <thead>\n",
       "    <tr style=\"text-align: right;\">\n",
       "      <th></th>\n",
       "      <th>person_id</th>\n",
       "      <th>age</th>\n",
       "      <th>sex</th>\n",
       "      <th>region</th>\n",
       "      <th>urban_rural</th>\n",
       "      <th>income</th>\n",
       "      <th>education</th>\n",
       "      <th>marital_status</th>\n",
       "      <th>employment_status</th>\n",
       "      <th>household_size</th>\n",
       "      <th>...</th>\n",
       "      <th>liver_disease</th>\n",
       "      <th>arthritis</th>\n",
       "      <th>mental_health</th>\n",
       "      <th>proc_imaging_count</th>\n",
       "      <th>proc_surgery_count</th>\n",
       "      <th>proc_physio_count</th>\n",
       "      <th>proc_consult_count</th>\n",
       "      <th>proc_lab_count</th>\n",
       "      <th>is_high_risk</th>\n",
       "      <th>had_major_procedure</th>\n",
       "    </tr>\n",
       "  </thead>\n",
       "  <tbody>\n",
       "    <tr>\n",
       "      <th>0</th>\n",
       "      <td>75722</td>\n",
       "      <td>52</td>\n",
       "      <td>Female</td>\n",
       "      <td>North</td>\n",
       "      <td>Suburban</td>\n",
       "      <td>22700.0</td>\n",
       "      <td>Doctorate</td>\n",
       "      <td>Married</td>\n",
       "      <td>Retired</td>\n",
       "      <td>3</td>\n",
       "      <td>...</td>\n",
       "      <td>0</td>\n",
       "      <td>1</td>\n",
       "      <td>0</td>\n",
       "      <td>1</td>\n",
       "      <td>0</td>\n",
       "      <td>2</td>\n",
       "      <td>0</td>\n",
       "      <td>1</td>\n",
       "      <td>0</td>\n",
       "      <td>0</td>\n",
       "    </tr>\n",
       "    <tr>\n",
       "      <th>1</th>\n",
       "      <td>80185</td>\n",
       "      <td>79</td>\n",
       "      <td>Female</td>\n",
       "      <td>North</td>\n",
       "      <td>Urban</td>\n",
       "      <td>12800.0</td>\n",
       "      <td>No HS</td>\n",
       "      <td>Married</td>\n",
       "      <td>Employed</td>\n",
       "      <td>3</td>\n",
       "      <td>...</td>\n",
       "      <td>0</td>\n",
       "      <td>1</td>\n",
       "      <td>1</td>\n",
       "      <td>0</td>\n",
       "      <td>0</td>\n",
       "      <td>1</td>\n",
       "      <td>0</td>\n",
       "      <td>1</td>\n",
       "      <td>1</td>\n",
       "      <td>0</td>\n",
       "    </tr>\n",
       "    <tr>\n",
       "      <th>2</th>\n",
       "      <td>19865</td>\n",
       "      <td>68</td>\n",
       "      <td>Male</td>\n",
       "      <td>North</td>\n",
       "      <td>Rural</td>\n",
       "      <td>40700.0</td>\n",
       "      <td>HS</td>\n",
       "      <td>Married</td>\n",
       "      <td>Retired</td>\n",
       "      <td>5</td>\n",
       "      <td>...</td>\n",
       "      <td>0</td>\n",
       "      <td>0</td>\n",
       "      <td>1</td>\n",
       "      <td>1</td>\n",
       "      <td>0</td>\n",
       "      <td>2</td>\n",
       "      <td>1</td>\n",
       "      <td>0</td>\n",
       "      <td>1</td>\n",
       "      <td>0</td>\n",
       "    </tr>\n",
       "    <tr>\n",
       "      <th>3</th>\n",
       "      <td>76700</td>\n",
       "      <td>15</td>\n",
       "      <td>Male</td>\n",
       "      <td>North</td>\n",
       "      <td>Suburban</td>\n",
       "      <td>15600.0</td>\n",
       "      <td>Some College</td>\n",
       "      <td>Married</td>\n",
       "      <td>Self-employed</td>\n",
       "      <td>5</td>\n",
       "      <td>...</td>\n",
       "      <td>0</td>\n",
       "      <td>0</td>\n",
       "      <td>0</td>\n",
       "      <td>1</td>\n",
       "      <td>0</td>\n",
       "      <td>0</td>\n",
       "      <td>1</td>\n",
       "      <td>0</td>\n",
       "      <td>0</td>\n",
       "      <td>0</td>\n",
       "    </tr>\n",
       "    <tr>\n",
       "      <th>4</th>\n",
       "      <td>92992</td>\n",
       "      <td>53</td>\n",
       "      <td>Male</td>\n",
       "      <td>Central</td>\n",
       "      <td>Suburban</td>\n",
       "      <td>89600.0</td>\n",
       "      <td>Doctorate</td>\n",
       "      <td>Married</td>\n",
       "      <td>Self-employed</td>\n",
       "      <td>2</td>\n",
       "      <td>...</td>\n",
       "      <td>0</td>\n",
       "      <td>1</td>\n",
       "      <td>0</td>\n",
       "      <td>2</td>\n",
       "      <td>0</td>\n",
       "      <td>1</td>\n",
       "      <td>1</td>\n",
       "      <td>0</td>\n",
       "      <td>1</td>\n",
       "      <td>0</td>\n",
       "    </tr>\n",
       "  </tbody>\n",
       "</table>\n",
       "<p>5 rows × 54 columns</p>\n",
       "</div>"
      ],
      "text/plain": [
       "   person_id  age     sex   region urban_rural   income     education  \\\n",
       "0      75722   52  Female    North    Suburban  22700.0     Doctorate   \n",
       "1      80185   79  Female    North       Urban  12800.0         No HS   \n",
       "2      19865   68    Male    North       Rural  40700.0            HS   \n",
       "3      76700   15    Male    North    Suburban  15600.0  Some College   \n",
       "4      92992   53    Male  Central    Suburban  89600.0     Doctorate   \n",
       "\n",
       "  marital_status employment_status  household_size  ...  liver_disease  \\\n",
       "0        Married           Retired               3  ...              0   \n",
       "1        Married          Employed               3  ...              0   \n",
       "2        Married           Retired               5  ...              0   \n",
       "3        Married     Self-employed               5  ...              0   \n",
       "4        Married     Self-employed               2  ...              0   \n",
       "\n",
       "   arthritis mental_health proc_imaging_count  proc_surgery_count  \\\n",
       "0          1             0                  1                   0   \n",
       "1          1             1                  0                   0   \n",
       "2          0             1                  1                   0   \n",
       "3          0             0                  1                   0   \n",
       "4          1             0                  2                   0   \n",
       "\n",
       "   proc_physio_count  proc_consult_count  proc_lab_count  is_high_risk  \\\n",
       "0                  2                   0               1             0   \n",
       "1                  1                   0               1             1   \n",
       "2                  2                   1               0             1   \n",
       "3                  0                   1               0             0   \n",
       "4                  1                   1               0             1   \n",
       "\n",
       "   had_major_procedure  \n",
       "0                    0  \n",
       "1                    0  \n",
       "2                    0  \n",
       "3                    0  \n",
       "4                    0  \n",
       "\n",
       "[5 rows x 54 columns]"
      ]
     },
     "execution_count": 3,
     "metadata": {},
     "output_type": "execute_result"
    }
   ],
   "source": [
    "df.head(5)"
   ]
  },
  {
   "cell_type": "markdown",
   "id": "bcaaa0a7-2d4c-4ccc-b355-ef977832e968",
   "metadata": {},
   "source": [
    "Аналіз клієнтів, що належать до групи із найвищими витратами на страховку, портрет такого клієнта"
   ]
  },
  {
   "cell_type": "code",
   "execution_count": 4,
   "id": "2efb38d4-23b3-45e8-9610-86e76ffe52f4",
   "metadata": {
    "execution": {
     "iopub.execute_input": "2025-10-12T18:02:21.927698Z",
     "iopub.status.busy": "2025-10-12T18:02:21.927316Z",
     "iopub.status.idle": "2025-10-12T18:02:21.931762Z",
     "shell.execute_reply": "2025-10-12T18:02:21.930829Z",
     "shell.execute_reply.started": "2025-10-12T18:02:21.927679Z"
    }
   },
   "outputs": [],
   "source": [
    "import numpy as np"
   ]
  },
  {
   "cell_type": "code",
   "execution_count": 5,
   "id": "b15041cd-8a1e-4d14-aff3-6dc7aefc1647",
   "metadata": {
    "execution": {
     "iopub.execute_input": "2025-10-12T18:02:42.296384Z",
     "iopub.status.busy": "2025-10-12T18:02:42.295856Z",
     "iopub.status.idle": "2025-10-12T18:02:42.389379Z",
     "shell.execute_reply": "2025-10-12T18:02:42.388659Z",
     "shell.execute_reply.started": "2025-10-12T18:02:42.296351Z"
    }
   },
   "outputs": [],
   "source": [
    "# прибираю всіх, кому меншее 18\n",
    "df = df[df['age'] >= 18].copy() "
   ]
  },
  {
   "cell_type": "code",
   "execution_count": 15,
   "id": "17d010ae-e311-4b07-90bd-b5d1fe423be3",
   "metadata": {
    "execution": {
     "iopub.execute_input": "2025-10-12T18:08:50.787962Z",
     "iopub.status.busy": "2025-10-12T18:08:50.787659Z",
     "iopub.status.idle": "2025-10-12T18:08:50.805132Z",
     "shell.execute_reply": "2025-10-12T18:08:50.804276Z",
     "shell.execute_reply.started": "2025-10-12T18:08:50.787946Z"
    }
   },
   "outputs": [],
   "source": [
    "# закодовую курців та стать\n",
    "smoker_mapping = {'Never': 0, 'Former': 1, 'Current': 2}\n",
    "df['smoker_cod'] = df['smoker'].map(smoker_mapping)\n",
    "\n",
    "sex_mapping = {'Male': 0, 'Female': 1, 'Other': 2} \n",
    "df['sex_cod'] = df['sex'].map(sex_mapping)"
   ]
  },
  {
   "cell_type": "code",
   "execution_count": 16,
   "id": "0e085635-13fb-4009-ba52-813ad2ca0deb",
   "metadata": {
    "execution": {
     "iopub.execute_input": "2025-10-12T18:09:25.720793Z",
     "iopub.status.busy": "2025-10-12T18:09:25.720283Z",
     "iopub.status.idle": "2025-10-12T18:09:25.736267Z",
     "shell.execute_reply": "2025-10-12T18:09:25.735326Z",
     "shell.execute_reply.started": "2025-10-12T18:09:25.720771Z"
    }
   },
   "outputs": [
    {
     "name": "stdout",
     "output_type": "stream",
     "text": [
      "90-й перцентиль витрат (поріг High Cost): $6,268.56\n"
     ]
    }
   ],
   "source": [
    "percentile_90 = df['annual_medical_cost'].quantile(0.90)\n",
    "df['High_Cost_Client'] = np.where(df['annual_medical_cost'] >= percentile_90, 1, 0)\n",
    "\n",
    "print(f\"90-й перцентиль витрат (поріг High Cost): ${percentile_90:,.2f}\")"
   ]
  },
  {
   "cell_type": "code",
   "execution_count": 17,
   "id": "97f206fa-63da-41fd-b8ba-16e14207975e",
   "metadata": {
    "execution": {
     "iopub.execute_input": "2025-10-12T18:10:08.813171Z",
     "iopub.status.busy": "2025-10-12T18:10:08.812487Z",
     "iopub.status.idle": "2025-10-12T18:10:08.894205Z",
     "shell.execute_reply": "2025-10-12T18:10:08.892911Z",
     "shell.execute_reply.started": "2025-10-12T18:10:08.813139Z"
    }
   },
   "outputs": [
    {
     "name": "stdout",
     "output_type": "stream",
     "text": [
      "\n",
      "Профіль клієнта High Cost (0 = Low, 1 = High):\n",
      "                  count  avg_age  avg_bmi  pct_smokers_current  avg_cost\n",
      "High_Cost_Client                                                        \n",
      "0                 87260    48.23    26.95                10.81   2238.46\n",
      "1                  9696    52.44    27.38                23.53  10167.42\n"
     ]
    }
   ],
   "source": [
    "profile_analysis = df.groupby('High_Cost_Client').agg(\n",
    "    count=('person_id', 'count'),\n",
    "    avg_age=('age', 'mean'),\n",
    "    avg_bmi=('bmi', 'mean'),\n",
    "    pct_smokers_current=('smoker', lambda x: (x == 'Current').mean() * 100), # Частка поточних курців у групі\n",
    "    avg_cost=('annual_medical_cost', 'mean')\n",
    ")\n",
    "\n",
    "print(\"\\nПрофіль клієнта High Cost (0 = Low, 1 = High):\")\n",
    "print(profile_analysis.round(2))"
   ]
  },
  {
   "cell_type": "markdown",
   "id": "6565cfd0-4aa1-4989-bd1e-75d95d02080c",
   "metadata": {},
   "source": [
    "Аналіз факторів, які найсильніше впливають на вартість страхування"
   ]
  },
  {
   "cell_type": "code",
   "execution_count": 19,
   "id": "233fd805-add9-4dfb-b66d-e32c76923eee",
   "metadata": {
    "execution": {
     "iopub.execute_input": "2025-10-12T18:15:30.274186Z",
     "iopub.status.busy": "2025-10-12T18:15:30.273863Z",
     "iopub.status.idle": "2025-10-12T18:15:30.331924Z",
     "shell.execute_reply": "2025-10-12T18:15:30.331078Z",
     "shell.execute_reply.started": "2025-10-12T18:15:30.274167Z"
    }
   },
   "outputs": [
    {
     "name": "stdout",
     "output_type": "stream",
     "text": [
      "\n",
      "Кореляція ознак з 'annual_medical_cost':\n",
      "smoker_encoded    0.156\n",
      "hypertension      0.154\n",
      "age               0.127\n",
      "mental_health     0.126\n",
      "diabetes          0.107\n",
      "copd              0.070\n",
      "bmi               0.043\n",
      "dependents        0.004\n",
      "sex_encoded      -0.004\n",
      "Name: annual_medical_cost, dtype: float64\n"
     ]
    }
   ],
   "source": [
    "correlation_features = [\n",
    "    'annual_medical_cost',\n",
    "    'age',\n",
    "    'bmi',\n",
    "    'dependents',\n",
    "    'smoker_encoded',\n",
    "    'sex_encoded',\n",
    "    'hypertension', \n",
    "    'diabetes',\n",
    "    'copd',\n",
    "    'mental_health'\n",
    "]\n",
    "\n",
    "# Розрахунок кореляційної матриці з цільовою змінною 'annual_medical_cost'\n",
    "correlation_matrix = df.loc[:, correlation_features].corr()\n",
    "\n",
    "# Вибір лише рядка з кореляцією до 'annual_medical_cost' та сортування\n",
    "cost_correlation = correlation_matrix['annual_medical_cost'].sort_values(ascending=False).drop('annual_medical_cost')\n",
    "\n",
    "print(\"\\nКореляція ознак з 'annual_medical_cost':\")\n",
    "print(cost_correlation.round(3))"
   ]
  },
  {
   "cell_type": "code",
   "execution_count": 20,
   "id": "670b6070-ddb4-40b5-9a18-b38755001331",
   "metadata": {
    "execution": {
     "iopub.execute_input": "2025-10-12T18:17:47.600537Z",
     "iopub.status.busy": "2025-10-12T18:17:47.599709Z",
     "iopub.status.idle": "2025-10-12T18:17:49.314861Z",
     "shell.execute_reply": "2025-10-12T18:17:49.313594Z",
     "shell.execute_reply.started": "2025-10-12T18:17:47.600510Z"
    }
   },
   "outputs": [
    {
     "name": "stdout",
     "output_type": "stream",
     "text": [
      "Файл 'final_file.csv' успішно збережено.\n"
     ]
    }
   ],
   "source": [
    "df.to_csv('final_file.csv', index=False)\n",
    "print(\"Файл 'final_file.csv' успішно збережено.\")"
   ]
  },
  {
   "cell_type": "code",
   "execution_count": null,
   "id": "3871a664-7e62-4894-bf3d-8e7a24b7528a",
   "metadata": {},
   "outputs": [],
   "source": []
  }
 ],
 "metadata": {
  "kernelspec": {
   "display_name": "Python 3 (ipykernel)",
   "language": "python",
   "name": "python3"
  },
  "language_info": {
   "codemirror_mode": {
    "name": "ipython",
    "version": 3
   },
   "file_extension": ".py",
   "mimetype": "text/x-python",
   "name": "python",
   "nbconvert_exporter": "python",
   "pygments_lexer": "ipython3",
   "version": "3.13.4"
  }
 },
 "nbformat": 4,
 "nbformat_minor": 5
}
