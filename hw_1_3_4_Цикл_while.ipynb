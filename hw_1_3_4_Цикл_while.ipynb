{
 "cells": [
  {
   "cell_type": "markdown",
   "metadata": {
    "id": "15XCoYr0awZ6"
   },
   "source": [
    "#Домашнє завдання до теми \"Цикл while\""
   ]
  },
  {
   "cell_type": "markdown",
   "metadata": {
    "id": "xgCDxF5YhQSa"
   },
   "source": [
    "1. **Лічильник до заданого числа.**\n",
    "   Завдання:\n",
    "     - Створіть цикл `while`, щоб він лічив від 1 до заданого числа в змінній `limit` (включно).\n",
    "     - Виведіть кожне число, яке проходить лічильник, на екран.\n",
    "     - В кінці виведіть повідомлення \"Кінець розрахунку!\".\n"
   ]
  },
  {
   "cell_type": "code",
   "execution_count": 1,
   "metadata": {
    "execution": {
     "iopub.execute_input": "2025-07-06T09:49:29.186598Z",
     "iopub.status.busy": "2025-07-06T09:49:29.186213Z",
     "iopub.status.idle": "2025-07-06T09:49:29.190889Z",
     "shell.execute_reply": "2025-07-06T09:49:29.190054Z",
     "shell.execute_reply.started": "2025-07-06T09:49:29.186572Z"
    },
    "id": "wwSqYFCmiJTt"
   },
   "outputs": [],
   "source": [
    "limit = 9  # Задане число"
   ]
  },
  {
   "cell_type": "code",
   "execution_count": 7,
   "metadata": {
    "execution": {
     "iopub.execute_input": "2025-07-06T09:56:39.950418Z",
     "iopub.status.busy": "2025-07-06T09:56:39.949705Z",
     "iopub.status.idle": "2025-07-06T09:56:39.956619Z",
     "shell.execute_reply": "2025-07-06T09:56:39.955740Z",
     "shell.execute_reply.started": "2025-07-06T09:56:39.950386Z"
    },
    "id": "-t-kC6mJqNVx"
   },
   "outputs": [
    {
     "name": "stdout",
     "output_type": "stream",
     "text": [
      "1\n",
      "2\n",
      "3\n",
      "4\n",
      "5\n",
      "6\n",
      "7\n",
      "8\n",
      "9\n",
      "Кінець розрахунку!\n"
     ]
    }
   ],
   "source": [
    "i = 1\n",
    "while i <= limit:\n",
    "    print(i)\n",
    "    i += 1\n",
    "print(\"Кінець розрахунку!\")"
   ]
  },
  {
   "cell_type": "code",
   "execution_count": 12,
   "metadata": {
    "execution": {
     "iopub.execute_input": "2025-07-06T09:59:58.216592Z",
     "iopub.status.busy": "2025-07-06T09:59:58.216082Z",
     "iopub.status.idle": "2025-07-06T09:59:58.221305Z",
     "shell.execute_reply": "2025-07-06T09:59:58.220547Z",
     "shell.execute_reply.started": "2025-07-06T09:59:58.216571Z"
    },
    "id": "-t-kC6mJqNVx"
   },
   "outputs": [
    {
     "name": "stdout",
     "output_type": "stream",
     "text": [
      "Умова виконується i = 1, 1 <= 9, рахуємо далі \n",
      "Умова виконується i = 2, 2 <= 9, рахуємо далі \n",
      "Умова виконується i = 3, 3 <= 9, рахуємо далі \n",
      "Умова виконується i = 4, 4 <= 9, рахуємо далі \n",
      "Умова виконується i = 5, 5 <= 9, рахуємо далі \n",
      "Умова виконується i = 6, 6 <= 9, рахуємо далі \n",
      "Умова виконується i = 7, 7 <= 9, рахуємо далі \n",
      "Умова виконується i = 8, 8 <= 9, рахуємо далі \n",
      "Умова виконується i = 9, 9 <= 9, рахуємо далі \n",
      "Умова НЕ виконується i = 10, 10 > 9. Кінець розрахунку!\n"
     ]
    }
   ],
   "source": [
    "i = 1\n",
    "while i <= limit:\n",
    "    print(f'Умова виконується i = {i}, {i} <= {limit}, рахуємо далі ')\n",
    "    i += 1\n",
    "print(f\"Умова НЕ виконується i = {i}, {i} > {limit}. Кінець розрахунку!\")"
   ]
  },
  {
   "cell_type": "markdown",
   "metadata": {
    "id": "DlqunQnphZ9s"
   },
   "source": [
    "2. **Пошук першого парного числа.** Завдання:\n",
    "     - Створіть цикл `while`, щоб знайти перше парне число після заданого числа `start`.\n",
    "     - Знайдіть та виведіть перше парне число.\n"
   ]
  },
  {
   "cell_type": "code",
   "execution_count": 13,
   "metadata": {
    "execution": {
     "iopub.execute_input": "2025-07-06T10:00:18.005900Z",
     "iopub.status.busy": "2025-07-06T10:00:18.005243Z",
     "iopub.status.idle": "2025-07-06T10:00:18.010051Z",
     "shell.execute_reply": "2025-07-06T10:00:18.008995Z",
     "shell.execute_reply.started": "2025-07-06T10:00:18.005857Z"
    },
    "id": "3CC3-gNJiW6X"
   },
   "outputs": [],
   "source": [
    "start = 7  # Задане число"
   ]
  },
  {
   "cell_type": "code",
   "execution_count": 20,
   "metadata": {
    "execution": {
     "iopub.execute_input": "2025-07-06T10:06:42.440125Z",
     "iopub.status.busy": "2025-07-06T10:06:42.439464Z",
     "iopub.status.idle": "2025-07-06T10:06:42.444406Z",
     "shell.execute_reply": "2025-07-06T10:06:42.443440Z",
     "shell.execute_reply.started": "2025-07-06T10:06:42.440104Z"
    },
    "id": "5M8Ly9_Lj4-t"
   },
   "outputs": [
    {
     "name": "stdout",
     "output_type": "stream",
     "text": [
      "Перше парне число після заданого = 8\n"
     ]
    }
   ],
   "source": [
    "while start % 2 != 0:\n",
    "    start += 1\n",
    "print(f\"Перше парне число після заданого = {start}\")  "
   ]
  },
  {
   "cell_type": "markdown",
   "metadata": {
    "id": "OlhKezZYiQJ2"
   },
   "source": [
    "\n",
    "3. **Обчислення факторіалу.**   \n",
    "  Факторіал числа - це добуток всіх натуральних чисел від 1 до цього числа включно. Наприклад, факторіал числа 5 (позначається як 5!) дорівнює `1 * 2 * 3 * 4 * 5 = 120`.\n",
    "\n",
    "  Завдання:  \n",
    "      - Обчисліть факторіал заданого числа, використовуючи цикл `while`.  \n",
    "      - Задайте деяке число для обчислення факторіалу у змінній `num`.  \n",
    "      - Виведіть обчислений факторіал на екран.  \n"
   ]
  },
  {
   "cell_type": "code",
   "execution_count": 22,
   "metadata": {
    "execution": {
     "iopub.execute_input": "2025-07-06T10:10:30.393126Z",
     "iopub.status.busy": "2025-07-06T10:10:30.392538Z",
     "iopub.status.idle": "2025-07-06T10:10:30.397680Z",
     "shell.execute_reply": "2025-07-06T10:10:30.396926Z",
     "shell.execute_reply.started": "2025-07-06T10:10:30.393105Z"
    },
    "id": "s0JKm0Wtj5s9"
   },
   "outputs": [],
   "source": [
    "num = 8 # для цього числа рахую факторіал\n",
    "factor = 1 # сюди буду записувати розрахунок факторіалу\n",
    "counter = 1 # оце підгледіла, бо не одразу зрозуміла як воно має рахуватись"
   ]
  },
  {
   "cell_type": "code",
   "execution_count": 24,
   "metadata": {
    "execution": {
     "iopub.execute_input": "2025-07-06T10:12:22.977715Z",
     "iopub.status.busy": "2025-07-06T10:12:22.977089Z",
     "iopub.status.idle": "2025-07-06T10:12:22.982821Z",
     "shell.execute_reply": "2025-07-06T10:12:22.981907Z",
     "shell.execute_reply.started": "2025-07-06T10:12:22.977688Z"
    }
   },
   "outputs": [
    {
     "name": "stdout",
     "output_type": "stream",
     "text": [
      "40320\n"
     ]
    }
   ],
   "source": [
    "while counter <= num:\n",
    "    factor = factor * counter\n",
    "    counter += 1\n",
    "print (factor)"
   ]
  }
 ],
 "metadata": {
  "colab": {
   "provenance": []
  },
  "kernelspec": {
   "display_name": "Python 3 (ipykernel)",
   "language": "python",
   "name": "python3"
  },
  "language_info": {
   "codemirror_mode": {
    "name": "ipython",
    "version": 3
   },
   "file_extension": ".py",
   "mimetype": "text/x-python",
   "name": "python",
   "nbconvert_exporter": "python",
   "pygments_lexer": "ipython3",
   "version": "3.13.4"
  }
 },
 "nbformat": 4,
 "nbformat_minor": 4
}
