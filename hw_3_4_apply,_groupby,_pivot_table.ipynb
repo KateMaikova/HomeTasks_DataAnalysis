{
 "cells": [
  {
   "cell_type": "markdown",
   "metadata": {
    "id": "LwNpAFw_eTF3"
   },
   "source": [
    "#Домашнє завдання до тем apply(), groupby(), pivot_table()"
   ]
  },
  {
   "cell_type": "markdown",
   "metadata": {
    "id": "vP2PEJyq8Yrj"
   },
   "source": [
    "В цьому домашньому завданні продовжуємо працювати з набором даних `supermarket_sales.csv`."
   ]
  },
  {
   "cell_type": "markdown",
   "metadata": {
    "id": "dh9lfpDb8gBL"
   },
   "source": [
    "0. Імпортуйте бібліотеку pandas та зчитайте дані у змінну `df` типу `pandas.DataFrame`."
   ]
  },
  {
   "cell_type": "code",
   "execution_count": 3,
   "metadata": {
    "execution": {
     "iopub.execute_input": "2025-07-20T17:22:47.895246Z",
     "iopub.status.busy": "2025-07-20T17:22:47.894908Z",
     "iopub.status.idle": "2025-07-20T17:22:47.901426Z",
     "shell.execute_reply": "2025-07-20T17:22:47.899339Z",
     "shell.execute_reply.started": "2025-07-20T17:22:47.895226Z"
    },
    "id": "xBI9gJMK8qnl"
   },
   "outputs": [],
   "source": [
    "import pandas as pd"
   ]
  },
  {
   "cell_type": "code",
   "execution_count": 4,
   "metadata": {
    "execution": {
     "iopub.execute_input": "2025-07-20T17:22:48.774175Z",
     "iopub.status.busy": "2025-07-20T17:22:48.773641Z",
     "iopub.status.idle": "2025-07-20T17:22:48.842407Z",
     "shell.execute_reply": "2025-07-20T17:22:48.841636Z",
     "shell.execute_reply.started": "2025-07-20T17:22:48.774155Z"
    }
   },
   "outputs": [],
   "source": [
    "path = (r'D:/DataLovesAcademy/Hometask/supermarket_sales_v2.csv') # завантажила доопрацьовані дані з попередньої дз, сподіваюсь не буде помилкою\n",
    "df = pd.read_csv(path)"
   ]
  },
  {
   "cell_type": "code",
   "execution_count": 5,
   "metadata": {
    "execution": {
     "iopub.execute_input": "2025-07-20T17:22:50.846785Z",
     "iopub.status.busy": "2025-07-20T17:22:50.846300Z",
     "iopub.status.idle": "2025-07-20T17:22:50.893749Z",
     "shell.execute_reply": "2025-07-20T17:22:50.892925Z",
     "shell.execute_reply.started": "2025-07-20T17:22:50.846766Z"
    }
   },
   "outputs": [
    {
     "data": {
      "text/html": [
       "<div>\n",
       "<style scoped>\n",
       "    .dataframe tbody tr th:only-of-type {\n",
       "        vertical-align: middle;\n",
       "    }\n",
       "\n",
       "    .dataframe tbody tr th {\n",
       "        vertical-align: top;\n",
       "    }\n",
       "\n",
       "    .dataframe thead th {\n",
       "        text-align: right;\n",
       "    }\n",
       "</style>\n",
       "<table border=\"1\" class=\"dataframe\">\n",
       "  <thead>\n",
       "    <tr style=\"text-align: right;\">\n",
       "      <th></th>\n",
       "      <th>Invoice ID</th>\n",
       "      <th>Branch</th>\n",
       "      <th>City</th>\n",
       "      <th>Customer type</th>\n",
       "      <th>Gender</th>\n",
       "      <th>Product line</th>\n",
       "      <th>Unit price</th>\n",
       "      <th>Quantity</th>\n",
       "      <th>Tax 5%</th>\n",
       "      <th>Total</th>\n",
       "      <th>Date</th>\n",
       "      <th>Time</th>\n",
       "      <th>Payment</th>\n",
       "      <th>cogs</th>\n",
       "      <th>gross margin percentage</th>\n",
       "      <th>gross income</th>\n",
       "      <th>Rating</th>\n",
       "      <th>Rating Category</th>\n",
       "      <th>Hour</th>\n",
       "    </tr>\n",
       "  </thead>\n",
       "  <tbody>\n",
       "    <tr>\n",
       "      <th>0</th>\n",
       "      <td>750-67-8428</td>\n",
       "      <td>A</td>\n",
       "      <td>Yangon</td>\n",
       "      <td>Member</td>\n",
       "      <td>Female</td>\n",
       "      <td>Health and beauty</td>\n",
       "      <td>74.69</td>\n",
       "      <td>7</td>\n",
       "      <td>26.1415</td>\n",
       "      <td>548.9715</td>\n",
       "      <td>1/5/2019</td>\n",
       "      <td>13:08</td>\n",
       "      <td>Ewallet</td>\n",
       "      <td>522.83</td>\n",
       "      <td>4.761905</td>\n",
       "      <td>26.1415</td>\n",
       "      <td>9.1</td>\n",
       "      <td>High</td>\n",
       "      <td>13</td>\n",
       "    </tr>\n",
       "    <tr>\n",
       "      <th>1</th>\n",
       "      <td>226-31-3081</td>\n",
       "      <td>C</td>\n",
       "      <td>Naypyitaw</td>\n",
       "      <td>Normal</td>\n",
       "      <td>Female</td>\n",
       "      <td>Electronic accessories</td>\n",
       "      <td>15.28</td>\n",
       "      <td>5</td>\n",
       "      <td>3.8200</td>\n",
       "      <td>80.2200</td>\n",
       "      <td>3/8/2019</td>\n",
       "      <td>10:29</td>\n",
       "      <td>Cash</td>\n",
       "      <td>76.40</td>\n",
       "      <td>4.761905</td>\n",
       "      <td>3.8200</td>\n",
       "      <td>9.6</td>\n",
       "      <td>High</td>\n",
       "      <td>10</td>\n",
       "    </tr>\n",
       "    <tr>\n",
       "      <th>2</th>\n",
       "      <td>631-41-3108</td>\n",
       "      <td>A</td>\n",
       "      <td>Yangon</td>\n",
       "      <td>Normal</td>\n",
       "      <td>Male</td>\n",
       "      <td>Home and lifestyle</td>\n",
       "      <td>46.33</td>\n",
       "      <td>7</td>\n",
       "      <td>16.2155</td>\n",
       "      <td>340.5255</td>\n",
       "      <td>3/3/2019</td>\n",
       "      <td>13:23</td>\n",
       "      <td>Credit card</td>\n",
       "      <td>324.31</td>\n",
       "      <td>4.761905</td>\n",
       "      <td>16.2155</td>\n",
       "      <td>7.4</td>\n",
       "      <td>Medium</td>\n",
       "      <td>13</td>\n",
       "    </tr>\n",
       "  </tbody>\n",
       "</table>\n",
       "</div>"
      ],
      "text/plain": [
       "    Invoice ID Branch       City Customer type  Gender  \\\n",
       "0  750-67-8428      A     Yangon        Member  Female   \n",
       "1  226-31-3081      C  Naypyitaw        Normal  Female   \n",
       "2  631-41-3108      A     Yangon        Normal    Male   \n",
       "\n",
       "             Product line  Unit price  Quantity   Tax 5%     Total      Date  \\\n",
       "0       Health and beauty       74.69         7  26.1415  548.9715  1/5/2019   \n",
       "1  Electronic accessories       15.28         5   3.8200   80.2200  3/8/2019   \n",
       "2      Home and lifestyle       46.33         7  16.2155  340.5255  3/3/2019   \n",
       "\n",
       "    Time      Payment    cogs  gross margin percentage  gross income  Rating  \\\n",
       "0  13:08      Ewallet  522.83                 4.761905       26.1415     9.1   \n",
       "1  10:29         Cash   76.40                 4.761905        3.8200     9.6   \n",
       "2  13:23  Credit card  324.31                 4.761905       16.2155     7.4   \n",
       "\n",
       "  Rating Category  Hour  \n",
       "0            High    13  \n",
       "1            High    10  \n",
       "2          Medium    13  "
      ]
     },
     "execution_count": 5,
     "metadata": {},
     "output_type": "execute_result"
    }
   ],
   "source": [
    "df.head(3)"
   ]
  },
  {
   "cell_type": "markdown",
   "metadata": {
    "id": "28638363"
   },
   "source": [
    "1. Дослідимо, який філіал супермаркету ('Branch') є найприбутковішим. Для цього знайдіть сумарний прибуток за кожним філіалом і виявіть, який філіал має найвищий."
   ]
  },
  {
   "cell_type": "code",
   "execution_count": 6,
   "metadata": {
    "ExecuteTime": {
     "end_time": "2022-11-01T17:27:42.023877Z",
     "start_time": "2022-11-01T17:27:42.020277Z"
    },
    "execution": {
     "iopub.execute_input": "2025-07-20T17:22:54.207232Z",
     "iopub.status.busy": "2025-07-20T17:22:54.206655Z",
     "iopub.status.idle": "2025-07-20T17:22:54.244364Z",
     "shell.execute_reply": "2025-07-20T17:22:54.241904Z",
     "shell.execute_reply.started": "2025-07-20T17:22:54.207202Z"
    },
    "id": "916d731d"
   },
   "outputs": [
    {
     "data": {
      "text/plain": [
       "Branch\n",
       "C    5265.18\n",
       "Name: gross income, dtype: float64"
      ]
     },
     "execution_count": 6,
     "metadata": {},
     "output_type": "execute_result"
    }
   ],
   "source": [
    "df.groupby('Branch')['gross income'].sum().round(2).sort_values(ascending = False).head(1)"
   ]
  },
  {
   "cell_type": "markdown",
   "metadata": {
    "id": "2qL_OddUCZKK"
   },
   "source": [
    "2. В якому місті знайходиться філіал з найвищим прибутком? Може в тому місці нам розмітисти ще один магазин.  \n",
    "Знайдіть відповідь за допомогою функціоналу Pandas."
   ]
  },
  {
   "cell_type": "code",
   "execution_count": 7,
   "metadata": {
    "execution": {
     "iopub.execute_input": "2025-07-20T17:22:57.002962Z",
     "iopub.status.busy": "2025-07-20T17:22:57.002431Z",
     "iopub.status.idle": "2025-07-20T17:22:57.024690Z",
     "shell.execute_reply": "2025-07-20T17:22:57.023938Z",
     "shell.execute_reply.started": "2025-07-20T17:22:57.002941Z"
    },
    "id": "bBJUc1dWCwdi"
   },
   "outputs": [
    {
     "data": {
      "text/plain": [
       "Branch  City     \n",
       "A       Yangon       5057.16\n",
       "B       Mandalay     5057.03\n",
       "C       Naypyitaw    5265.18\n",
       "Name: gross income, dtype: float64"
      ]
     },
     "execution_count": 7,
     "metadata": {},
     "output_type": "execute_result"
    }
   ],
   "source": [
    "df.groupby(by = ['Branch','City'])['gross income'].sum().round(2)#.sort_values(ascending = False).head(1)"
   ]
  },
  {
   "cell_type": "markdown",
   "metadata": {},
   "source": [
    "Оскільки ми проаналізували Загальний чек за основними метриками по всіх містах в попередній дз\n",
    "та виходячи з того, що один філіал = одне місто,\n",
    "Naypyitaw виглядає таким, що можна відкрити в цьому місті ще один магазин, бо це місто має найбільший валовий дохід та доволі збалансований розподіл показників загального чеку покупців."
   ]
  },
  {
   "cell_type": "markdown",
   "metadata": {
    "id": "6dec795f"
   },
   "source": [
    "3.1. Створіть зводну таблицю, яка покаже, скільки покупок (інвойсів) було зроблено в кожній з філій (`Branch`) за різними категоріями товарів. Запишіть таблицю в змінну `invoices_by_category` і виведіть змінну на екран.\n",
    "Ця таблиця допоможе проаналізувати, в якій філії купують найбільше товарів кожної з категорій."
   ]
  },
  {
   "cell_type": "code",
   "execution_count": 9,
   "metadata": {
    "execution": {
     "iopub.execute_input": "2025-07-20T17:23:47.299234Z",
     "iopub.status.busy": "2025-07-20T17:23:47.298717Z",
     "iopub.status.idle": "2025-07-20T17:23:47.311233Z",
     "shell.execute_reply": "2025-07-20T17:23:47.310097Z",
     "shell.execute_reply.started": "2025-07-20T17:23:47.299213Z"
    },
    "id": "N7TfUBf4ZrkX"
   },
   "outputs": [],
   "source": [
    " invoices_by_category = pd.pivot_table(df, index='Branch', columns='Product line', values=['Invoice ID'], aggfunc=\"count\")"
   ]
  },
  {
   "cell_type": "code",
   "execution_count": 10,
   "metadata": {
    "execution": {
     "iopub.execute_input": "2025-07-20T17:23:57.656530Z",
     "iopub.status.busy": "2025-07-20T17:23:57.656078Z",
     "iopub.status.idle": "2025-07-20T17:23:57.667488Z",
     "shell.execute_reply": "2025-07-20T17:23:57.666506Z",
     "shell.execute_reply.started": "2025-07-20T17:23:57.656511Z"
    }
   },
   "outputs": [
    {
     "data": {
      "text/html": [
       "<div>\n",
       "<style scoped>\n",
       "    .dataframe tbody tr th:only-of-type {\n",
       "        vertical-align: middle;\n",
       "    }\n",
       "\n",
       "    .dataframe tbody tr th {\n",
       "        vertical-align: top;\n",
       "    }\n",
       "\n",
       "    .dataframe thead tr th {\n",
       "        text-align: left;\n",
       "    }\n",
       "\n",
       "    .dataframe thead tr:last-of-type th {\n",
       "        text-align: right;\n",
       "    }\n",
       "</style>\n",
       "<table border=\"1\" class=\"dataframe\">\n",
       "  <thead>\n",
       "    <tr>\n",
       "      <th></th>\n",
       "      <th colspan=\"6\" halign=\"left\">Invoice ID</th>\n",
       "    </tr>\n",
       "    <tr>\n",
       "      <th>Product line</th>\n",
       "      <th>Electronic accessories</th>\n",
       "      <th>Fashion accessories</th>\n",
       "      <th>Food and beverages</th>\n",
       "      <th>Health and beauty</th>\n",
       "      <th>Home and lifestyle</th>\n",
       "      <th>Sports and travel</th>\n",
       "    </tr>\n",
       "    <tr>\n",
       "      <th>Branch</th>\n",
       "      <th></th>\n",
       "      <th></th>\n",
       "      <th></th>\n",
       "      <th></th>\n",
       "      <th></th>\n",
       "      <th></th>\n",
       "    </tr>\n",
       "  </thead>\n",
       "  <tbody>\n",
       "    <tr>\n",
       "      <th>A</th>\n",
       "      <td>60</td>\n",
       "      <td>51</td>\n",
       "      <td>58</td>\n",
       "      <td>47</td>\n",
       "      <td>65</td>\n",
       "      <td>59</td>\n",
       "    </tr>\n",
       "    <tr>\n",
       "      <th>B</th>\n",
       "      <td>55</td>\n",
       "      <td>62</td>\n",
       "      <td>50</td>\n",
       "      <td>53</td>\n",
       "      <td>50</td>\n",
       "      <td>62</td>\n",
       "    </tr>\n",
       "    <tr>\n",
       "      <th>C</th>\n",
       "      <td>55</td>\n",
       "      <td>65</td>\n",
       "      <td>66</td>\n",
       "      <td>52</td>\n",
       "      <td>45</td>\n",
       "      <td>45</td>\n",
       "    </tr>\n",
       "  </tbody>\n",
       "</table>\n",
       "</div>"
      ],
      "text/plain": [
       "                         Invoice ID                                         \\\n",
       "Product line Electronic accessories Fashion accessories Food and beverages   \n",
       "Branch                                                                       \n",
       "A                                60                  51                 58   \n",
       "B                                55                  62                 50   \n",
       "C                                55                  65                 66   \n",
       "\n",
       "                                                                     \n",
       "Product line Health and beauty Home and lifestyle Sports and travel  \n",
       "Branch                                                               \n",
       "A                           47                 65                59  \n",
       "B                           53                 50                62  \n",
       "C                           52                 45                45  "
      ]
     },
     "execution_count": 10,
     "metadata": {},
     "output_type": "execute_result"
    }
   ],
   "source": [
    "invoices_by_category"
   ]
  },
  {
   "cell_type": "markdown",
   "metadata": {
    "ExecuteTime": {
     "end_time": "2022-11-01T16:50:46.961201Z",
     "start_time": "2022-11-01T16:50:46.955894Z"
    },
    "id": "f5bbfa34"
   },
   "source": [
    "Очікуваний результат:"
   ]
  },
  {
   "cell_type": "markdown",
   "metadata": {
    "id": "34b9bcdc"
   },
   "source": [
    "![](https://drive.google.com/uc?export=view&id=1rueAdko6S3UxIHGtojetTxlES-EyM6Yb)"
   ]
  },
  {
   "cell_type": "markdown",
   "metadata": {
    "id": "woygDEA0OSwJ"
   },
   "source": [
    "3.2. Викристовуючи змінну `invoices_by_category` дайте відповідь програмно (тобто значення треба не просто знайти очима, а вивести за допомогою коду), в якому філіалі магазину (`Branch`) найбільше інвойсів із покупкою товарів категорії \"Електронні аксесуари\" (`Electronic accessories`)?\n"
   ]
  },
  {
   "cell_type": "code",
   "execution_count": 17,
   "metadata": {
    "execution": {
     "iopub.execute_input": "2025-07-20T17:35:20.326035Z",
     "iopub.status.busy": "2025-07-20T17:35:20.325720Z",
     "iopub.status.idle": "2025-07-20T17:35:20.343292Z",
     "shell.execute_reply": "2025-07-20T17:35:20.342486Z",
     "shell.execute_reply.started": "2025-07-20T17:35:20.326016Z"
    },
    "id": "B5x8kTE-Qcq8"
   },
   "outputs": [
    {
     "data": {
      "text/plain": [
       "'A'"
      ]
     },
     "execution_count": 17,
     "metadata": {},
     "output_type": "execute_result"
    }
   ],
   "source": [
    "invoices_by_category[('Invoice ID', 'Electronic accessories')].idxmax()"
   ]
  },
  {
   "cell_type": "markdown",
   "metadata": {
    "ExecuteTime": {
     "end_time": "2022-11-01T17:56:02.981755Z",
     "start_time": "2022-11-01T17:56:02.977086Z"
    },
    "id": "d005a2b8"
   },
   "source": [
    "4-6. **Творче завдання на розвиток аналітичного мислення**\n",
    "\n",
    "Крок 1. Сформулюйте ТРИ питання (гіпотези) до наявних даних, які допомогли б вам зрозуміти, які користувачі що, де та коли найбільше/найменше купують, аби дати на основі цих гіпотез рекомендації бізнесу. Звісно питання мають бути не тими, на які ми вже відповіли в завданнях модулю.\n",
    "\n",
    "Крок 2. Знайдіть відповіді на свої питання з допомогою функціоналу pandas.\n",
    "\n",
    "Крок 3. Напишіть, як відповідь на це питання може бути використана для прийняття бізнес рішень.   \n",
    "   \n",
    " Питання можуть бути будь-якої складності, але їх має бути 3. Кожне питання оцінюється як 1 завдання. Без виконання цього завдання ДЗ не приймається. Якщо є питання щодо виконання - пишіть у чат 🙌\n"
   ]
  },
  {
   "cell_type": "markdown",
   "metadata": {
    "id": "cM3cApWSZuRX"
   },
   "source": [
    "Гіпотеза 1: чи впливає спосіб оплати покупки на суму покупки?"
   ]
  },
  {
   "cell_type": "code",
   "execution_count": 25,
   "metadata": {
    "execution": {
     "iopub.execute_input": "2025-07-20T17:47:48.030641Z",
     "iopub.status.busy": "2025-07-20T17:47:48.030280Z",
     "iopub.status.idle": "2025-07-20T17:47:48.039334Z",
     "shell.execute_reply": "2025-07-20T17:47:48.038319Z",
     "shell.execute_reply.started": "2025-07-20T17:47:48.030623Z"
    }
   },
   "outputs": [
    {
     "data": {
      "text/plain": [
       "Payment\n",
       "Cash           112.21\n",
       "Ewallet        109.99\n",
       "Credit card    100.77\n",
       "Name: Total, dtype: float64"
      ]
     },
     "execution_count": 25,
     "metadata": {},
     "output_type": "execute_result"
    }
   ],
   "source": [
    "(df.groupby(by = ['Payment'])['Total'].sum()/1000).round(2).sort_values(ascending = False)"
   ]
  },
  {
   "cell_type": "code",
   "execution_count": 26,
   "metadata": {
    "execution": {
     "iopub.execute_input": "2025-07-20T17:48:03.103887Z",
     "iopub.status.busy": "2025-07-20T17:48:03.103166Z",
     "iopub.status.idle": "2025-07-20T17:48:03.111830Z",
     "shell.execute_reply": "2025-07-20T17:48:03.110758Z",
     "shell.execute_reply.started": "2025-07-20T17:48:03.103865Z"
    }
   },
   "outputs": [
    {
     "data": {
      "text/plain": [
       "Payment\n",
       "Ewallet        345\n",
       "Cash           344\n",
       "Credit card    311\n",
       "Name: Invoice ID, dtype: int64"
      ]
     },
     "execution_count": 26,
     "metadata": {},
     "output_type": "execute_result"
    }
   ],
   "source": [
    "df.groupby(by = ['Payment'])['Invoice ID'].count().round(2).sort_values(ascending = False)"
   ]
  },
  {
   "cell_type": "code",
   "execution_count": 28,
   "metadata": {
    "execution": {
     "iopub.execute_input": "2025-07-20T17:57:24.788739Z",
     "iopub.status.busy": "2025-07-20T17:57:24.788429Z",
     "iopub.status.idle": "2025-07-20T17:57:24.797825Z",
     "shell.execute_reply": "2025-07-20T17:57:24.796781Z",
     "shell.execute_reply.started": "2025-07-20T17:57:24.788720Z"
    }
   },
   "outputs": [
    {
     "data": {
      "text/plain": [
       "Payment\n",
       "Cash           5343.17\n",
       "Ewallet        5237.77\n",
       "Credit card    4798.43\n",
       "Name: gross income, dtype: float64"
      ]
     },
     "execution_count": 28,
     "metadata": {},
     "output_type": "execute_result"
    }
   ],
   "source": [
    "df.groupby(by = ['Payment'])['gross income'].sum().round(2).sort_values(ascending = False)"
   ]
  },
  {
   "cell_type": "markdown",
   "metadata": {},
   "source": [
    "Висновок 1: Оплата кешем приносить найбільший дохід (в порівнянні з оплатою Ewallet, оскільки по к-ть здійснених покупок вони майже однакові).\n",
    "Пропозиція: стимулювати ще більше покупців розплачуватись готівкою за рахунок якихось акцій (хоча це і трохи суперечить сучасному світу).\n",
    "Висновок 2: Оплата кредитними коштами приносить найменший дохід. І клієнти найменше використовують цей спосіб оплати.\n",
    "Пропозиція: Аби бути втренді сучасного світу треба стимулювати клієнтів використовувати кредитні кошти за рахунок отримання кешбеку або невеличких знижок."
   ]
  },
  {
   "cell_type": "markdown",
   "metadata": {},
   "source": [
    "Гіпотеза 2: Чи впливає стать покупця на спосіб оплати?"
   ]
  },
  {
   "cell_type": "code",
   "execution_count": 33,
   "metadata": {
    "execution": {
     "iopub.execute_input": "2025-07-20T18:15:46.628894Z",
     "iopub.status.busy": "2025-07-20T18:15:46.628212Z",
     "iopub.status.idle": "2025-07-20T18:15:46.648256Z",
     "shell.execute_reply": "2025-07-20T18:15:46.647250Z",
     "shell.execute_reply.started": "2025-07-20T18:15:46.628874Z"
    }
   },
   "outputs": [
    {
     "data": {
      "text/plain": [
       "Gender  Payment    \n",
       "Female  Cash           178\n",
       "        Credit card    163\n",
       "        Ewallet        160\n",
       "Male    Ewallet        185\n",
       "        Cash           166\n",
       "        Credit card    148\n",
       "Name: Invoice ID, dtype: int64"
      ]
     },
     "execution_count": 33,
     "metadata": {},
     "output_type": "execute_result"
    }
   ],
   "source": [
    "df.groupby(by=['Gender', 'Payment'])['Invoice ID'].count().round(2).groupby(level='Gender', group_keys=False).apply(lambda x: x.sort_values(ascending=False))\n"
   ]
  },
  {
   "cell_type": "markdown",
   "metadata": {},
   "source": [
    "Висновок: спостерігаємо різну поведінку. Чоловіки найчастіше оплачують покупки через Е-волет, Жінки - готівкою. Але, жінки частіше (на 10%) користуються кредиткою ніж чоловіки.\n",
    "Пропозиція: подумати над акціями для жінок аби підвищити оплати як готівкою так і кредикою. І також не забути про плюшки для чоловіків, які викорстовують Е-волет."
   ]
  },
  {
   "cell_type": "markdown",
   "metadata": {},
   "source": [
    "Гіпотеза 3: \n",
    "Чи жінки, які платять готівкою, роблять більші покупки, ніж жінки, які платять кредиткою?\n",
    "Чи чоловіки, які плтять Е-волет, витрачають більше, ніж чоловіки, які платять готівкою?"
   ]
  },
  {
   "cell_type": "code",
   "execution_count": 48,
   "metadata": {
    "execution": {
     "iopub.execute_input": "2025-07-20T18:33:11.787071Z",
     "iopub.status.busy": "2025-07-20T18:33:11.786459Z",
     "iopub.status.idle": "2025-07-20T18:33:11.802071Z",
     "shell.execute_reply": "2025-07-20T18:33:11.801206Z",
     "shell.execute_reply.started": "2025-07-20T18:33:11.787050Z"
    }
   },
   "outputs": [
    {
     "data": {
      "text/html": [
       "<div>\n",
       "<style scoped>\n",
       "    .dataframe tbody tr th:only-of-type {\n",
       "        vertical-align: middle;\n",
       "    }\n",
       "\n",
       "    .dataframe tbody tr th {\n",
       "        vertical-align: top;\n",
       "    }\n",
       "\n",
       "    .dataframe thead tr th {\n",
       "        text-align: left;\n",
       "    }\n",
       "\n",
       "    .dataframe thead tr:last-of-type th {\n",
       "        text-align: right;\n",
       "    }\n",
       "</style>\n",
       "<table border=\"1\" class=\"dataframe\">\n",
       "  <thead>\n",
       "    <tr>\n",
       "      <th></th>\n",
       "      <th colspan=\"3\" halign=\"left\">Total</th>\n",
       "    </tr>\n",
       "    <tr>\n",
       "      <th>Payment</th>\n",
       "      <th>Cash</th>\n",
       "      <th>Credit card</th>\n",
       "      <th>Ewallet</th>\n",
       "    </tr>\n",
       "    <tr>\n",
       "      <th>Gender</th>\n",
       "      <th></th>\n",
       "      <th></th>\n",
       "      <th></th>\n",
       "    </tr>\n",
       "  </thead>\n",
       "  <tbody>\n",
       "    <tr>\n",
       "      <th>Female</th>\n",
       "      <td>59514.21</td>\n",
       "      <td>53498.44</td>\n",
       "      <td>54870.27</td>\n",
       "    </tr>\n",
       "    <tr>\n",
       "      <th>Male</th>\n",
       "      <td>52692.36</td>\n",
       "      <td>47268.63</td>\n",
       "      <td>55122.84</td>\n",
       "    </tr>\n",
       "  </tbody>\n",
       "</table>\n",
       "</div>"
      ],
      "text/plain": [
       "            Total                      \n",
       "Payment      Cash Credit card   Ewallet\n",
       "Gender                                 \n",
       "Female   59514.21    53498.44  54870.27\n",
       "Male     52692.36    47268.63  55122.84"
      ]
     },
     "execution_count": 48,
     "metadata": {},
     "output_type": "execute_result"
    }
   ],
   "source": [
    "piv_tab = pd.pivot_table(df, index='Gender', columns='Payment', values=['Total'], aggfunc=\"sum\")\n",
    "piv_tab.round(2)"
   ]
  },
  {
   "cell_type": "code",
   "execution_count": 47,
   "metadata": {
    "execution": {
     "iopub.execute_input": "2025-07-20T18:30:00.567800Z",
     "iopub.status.busy": "2025-07-20T18:30:00.567252Z",
     "iopub.status.idle": "2025-07-20T18:30:00.582493Z",
     "shell.execute_reply": "2025-07-20T18:30:00.581592Z",
     "shell.execute_reply.started": "2025-07-20T18:30:00.567776Z"
    }
   },
   "outputs": [
    {
     "data": {
      "text/html": [
       "<div>\n",
       "<style scoped>\n",
       "    .dataframe tbody tr th:only-of-type {\n",
       "        vertical-align: middle;\n",
       "    }\n",
       "\n",
       "    .dataframe tbody tr th {\n",
       "        vertical-align: top;\n",
       "    }\n",
       "\n",
       "    .dataframe thead tr th {\n",
       "        text-align: left;\n",
       "    }\n",
       "\n",
       "    .dataframe thead tr:last-of-type th {\n",
       "        text-align: right;\n",
       "    }\n",
       "</style>\n",
       "<table border=\"1\" class=\"dataframe\">\n",
       "  <thead>\n",
       "    <tr>\n",
       "      <th></th>\n",
       "      <th colspan=\"3\" halign=\"left\">Total</th>\n",
       "    </tr>\n",
       "    <tr>\n",
       "      <th>Payment</th>\n",
       "      <th>Cash</th>\n",
       "      <th>Credit card</th>\n",
       "      <th>Ewallet</th>\n",
       "    </tr>\n",
       "    <tr>\n",
       "      <th>Gender</th>\n",
       "      <th></th>\n",
       "      <th></th>\n",
       "      <th></th>\n",
       "    </tr>\n",
       "  </thead>\n",
       "  <tbody>\n",
       "    <tr>\n",
       "      <th>Female</th>\n",
       "      <td>334.35</td>\n",
       "      <td>328.21</td>\n",
       "      <td>342.94</td>\n",
       "    </tr>\n",
       "    <tr>\n",
       "      <th>Male</th>\n",
       "      <td>317.42</td>\n",
       "      <td>319.38</td>\n",
       "      <td>297.96</td>\n",
       "    </tr>\n",
       "  </tbody>\n",
       "</table>\n",
       "</div>"
      ],
      "text/plain": [
       "          Total                    \n",
       "Payment    Cash Credit card Ewallet\n",
       "Gender                             \n",
       "Female   334.35      328.21  342.94\n",
       "Male     317.42      319.38  297.96"
      ]
     },
     "execution_count": 47,
     "metadata": {},
     "output_type": "execute_result"
    }
   ],
   "source": [
    "piv_tab_mean = pd.pivot_table(df, index='Gender', columns='Payment', values=['Total'], aggfunc=\"mean\")\n",
    "piv_tab_mean.round(2)"
   ]
  },
  {
   "cell_type": "markdown",
   "metadata": {},
   "source": [
    "Який цікавий поворот)\n",
    "Висновки:\n",
    "Жінки: Найвищий середній чек при оплаті Е-волет, потім готівка і лише потім кредитка. \n",
    "Тобто, жінки, які платять готівкою, не роблять значно більших покупок, ніж ті, хто платить кредиткою, а насправді Е-волет дає найвищий середній чек для жінок.\n",
    "Чоловіки: Найвищий середній чек при оплаті кредиткою, потім готівка, а Е-волет дає найнижчий середній чек. Тобто, чоловіки, які платять Е-волет, витрачають менше, ніж чоловіки, які платять готівкою.\n",
    "ОТЖЕ: попередні пропозиції виявились не коректними в частині націлення на просування певного виду оплати, тому треба змінити напрям.\n",
    "Пропозиція для жінок: Сфокусуватися на акціях для жінок, які використовують Е-волет, щоб стимулювати їх до ще більших покупок, оскільки саме цей метод дає найвищий середній чек для них.\n",
    "\n",
    "Пропозиція для чоловіків: Так як чоловіки є лідерами за к-тю транзакцій через Е-волет (з попередньої гіпотези), але мають найнижчий середній чек при цьому, треба додатково проаналізувати, чому так відбувається. Можливо, Е-волет зручний для дрібних, швидких покупок. Можна спробувати акції, які заохочують чоловіків збільшувати суму чека при оплаті Е-волет.\n",
    "+\n",
    "треба проаналізувати товари які купуються при оплаті готівкою чи кредиткою бо у чоловіків середній чек вищий при оплаті саме готівкою або кредиткою."
   ]
  }
 ],
 "metadata": {
  "colab": {
   "provenance": []
  },
  "kernelspec": {
   "display_name": "Python 3 (ipykernel)",
   "language": "python",
   "name": "python3"
  },
  "language_info": {
   "codemirror_mode": {
    "name": "ipython",
    "version": 3
   },
   "file_extension": ".py",
   "mimetype": "text/x-python",
   "name": "python",
   "nbconvert_exporter": "python",
   "pygments_lexer": "ipython3",
   "version": "3.13.4"
  }
 },
 "nbformat": 4,
 "nbformat_minor": 4
}
