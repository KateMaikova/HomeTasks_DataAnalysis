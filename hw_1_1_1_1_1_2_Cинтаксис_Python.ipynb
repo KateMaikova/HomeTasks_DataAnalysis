{
 "cells": [
  {
   "cell_type": "markdown",
   "metadata": {
    "id": "tvPKWXfD7yRv"
   },
   "source": [
    "#Домашнє завдання до теми \"Синтаксис Python\"\n",
    "\n",
    "В ДЗ першого модулю важливою умовою виконання завдань є те, що ми не імпортуємо жодних бібліотек, а робимо все на чистому Python, використовуючи лише базовий функціонал. Це необхідно аби відпрацювати роботу з базовими типами даних. А використовувати бібліотеки ми ще навчимось далі :)"
   ]
  },
  {
   "cell_type": "markdown",
   "metadata": {
    "id": "xE1KHmUbQVbC"
   },
   "source": [
    "1. Створіть змінну, яка буде зберігати кількість яблук. І надайте їй значення 5. Виведіть значення змінної на екран."
   ]
  },
  {
   "cell_type": "code",
   "execution_count": 1,
   "metadata": {
    "execution": {
     "iopub.execute_input": "2025-06-09T17:25:35.320100Z",
     "iopub.status.busy": "2025-06-09T17:25:35.319794Z",
     "iopub.status.idle": "2025-06-09T17:25:35.324114Z",
     "shell.execute_reply": "2025-06-09T17:25:35.323420Z",
     "shell.execute_reply.started": "2025-06-09T17:25:35.320078Z"
    },
    "id": "iz5QpN-vQUtN"
   },
   "outputs": [],
   "source": [
    "qty_apple = 5"
   ]
  },
  {
   "cell_type": "code",
   "execution_count": 2,
   "metadata": {
    "execution": {
     "iopub.execute_input": "2025-06-09T17:25:55.827157Z",
     "iopub.status.busy": "2025-06-09T17:25:55.826614Z",
     "iopub.status.idle": "2025-06-09T17:25:55.835427Z",
     "shell.execute_reply": "2025-06-09T17:25:55.834309Z",
     "shell.execute_reply.started": "2025-06-09T17:25:55.827130Z"
    }
   },
   "outputs": [
    {
     "data": {
      "text/plain": [
       "5"
      ]
     },
     "execution_count": 2,
     "metadata": {},
     "output_type": "execute_result"
    }
   ],
   "source": [
    "qty_apple"
   ]
  },
  {
   "cell_type": "markdown",
   "metadata": {
    "id": "wx6RsBHAQd9q"
   },
   "source": [
    "2. Виведіть тип змінної, створеної в завданні (1)."
   ]
  },
  {
   "cell_type": "code",
   "execution_count": 3,
   "metadata": {
    "execution": {
     "iopub.execute_input": "2025-06-09T17:26:28.573785Z",
     "iopub.status.busy": "2025-06-09T17:26:28.573280Z",
     "iopub.status.idle": "2025-06-09T17:26:28.579900Z",
     "shell.execute_reply": "2025-06-09T17:26:28.578942Z",
     "shell.execute_reply.started": "2025-06-09T17:26:28.573765Z"
    },
    "id": "f48l2PhiQi86"
   },
   "outputs": [
    {
     "data": {
      "text/plain": [
       "int"
      ]
     },
     "execution_count": 3,
     "metadata": {},
     "output_type": "execute_result"
    }
   ],
   "source": [
    "type(qty_apple)"
   ]
  },
  {
   "cell_type": "markdown",
   "metadata": {
    "id": "UEc59pPcQnva"
   },
   "source": [
    "3. Додайте до значення змінної, створеної в завданні (1) число `12` і виведіть результат на екран з допомогою команди `print()`."
   ]
  },
  {
   "cell_type": "code",
   "execution_count": 5,
   "metadata": {
    "execution": {
     "iopub.execute_input": "2025-06-09T17:27:41.583055Z",
     "iopub.status.busy": "2025-06-09T17:27:41.582716Z",
     "iopub.status.idle": "2025-06-09T17:27:41.587108Z",
     "shell.execute_reply": "2025-06-09T17:27:41.586179Z",
     "shell.execute_reply.started": "2025-06-09T17:27:41.583038Z"
    },
    "id": "gu-vkERpQoCY"
   },
   "outputs": [],
   "source": [
    "qty_apple = qty_apple + 12"
   ]
  },
  {
   "cell_type": "code",
   "execution_count": 6,
   "metadata": {
    "execution": {
     "iopub.execute_input": "2025-06-09T17:27:54.227251Z",
     "iopub.status.busy": "2025-06-09T17:27:54.226615Z",
     "iopub.status.idle": "2025-06-09T17:27:54.232007Z",
     "shell.execute_reply": "2025-06-09T17:27:54.231290Z",
     "shell.execute_reply.started": "2025-06-09T17:27:54.227226Z"
    }
   },
   "outputs": [
    {
     "name": "stdout",
     "output_type": "stream",
     "text": [
      "17\n"
     ]
    }
   ],
   "source": [
    "print (qty_apple)"
   ]
  },
  {
   "cell_type": "markdown",
   "metadata": {
    "id": "yOztaNuqqcMy"
   },
   "source": [
    "4. Запустіть код нижче аби створити дві змінні."
   ]
  },
  {
   "cell_type": "code",
   "execution_count": 7,
   "metadata": {
    "execution": {
     "iopub.execute_input": "2025-06-09T17:28:00.233959Z",
     "iopub.status.busy": "2025-06-09T17:28:00.233397Z",
     "iopub.status.idle": "2025-06-09T17:28:00.237864Z",
     "shell.execute_reply": "2025-06-09T17:28:00.236978Z",
     "shell.execute_reply.started": "2025-06-09T17:28:00.233938Z"
    },
    "id": "kbXeQSgcqncV"
   },
   "outputs": [],
   "source": [
    "a = 48\n",
    "b = 3"
   ]
  },
  {
   "cell_type": "markdown",
   "metadata": {
    "id": "9ojIRMw3qvw8"
   },
   "source": [
    "Створіть нову клітинку нижче цієї з допомогою натискання англійської літери `B`, коли ви НЕ в режимі редагування клітинки. В створеній клітинці створіть змінну `c`, яка буде містити результат ділення `a` на `b`."
   ]
  },
  {
   "cell_type": "code",
   "execution_count": 8,
   "metadata": {
    "execution": {
     "iopub.execute_input": "2025-06-09T17:28:22.536601Z",
     "iopub.status.busy": "2025-06-09T17:28:22.536287Z",
     "iopub.status.idle": "2025-06-09T17:28:22.540370Z",
     "shell.execute_reply": "2025-06-09T17:28:22.539290Z",
     "shell.execute_reply.started": "2025-06-09T17:28:22.536581Z"
    }
   },
   "outputs": [],
   "source": [
    "c = a/b"
   ]
  },
  {
   "cell_type": "code",
   "execution_count": 12,
   "metadata": {
    "execution": {
     "iopub.execute_input": "2025-06-09T17:30:58.948239Z",
     "iopub.status.busy": "2025-06-09T17:30:58.947712Z",
     "iopub.status.idle": "2025-06-09T17:30:58.961553Z",
     "shell.execute_reply": "2025-06-09T17:30:58.960582Z",
     "shell.execute_reply.started": "2025-06-09T17:30:58.948190Z"
    }
   },
   "outputs": [
    {
     "data": {
      "text/plain": [
       "48"
      ]
     },
     "metadata": {},
     "output_type": "display_data"
    },
    {
     "data": {
      "text/plain": [
       "int"
      ]
     },
     "metadata": {},
     "output_type": "display_data"
    },
    {
     "data": {
      "text/plain": [
       "3"
      ]
     },
     "metadata": {},
     "output_type": "display_data"
    },
    {
     "data": {
      "text/plain": [
       "int"
      ]
     },
     "metadata": {},
     "output_type": "display_data"
    },
    {
     "data": {
      "text/plain": [
       "16.0"
      ]
     },
     "metadata": {},
     "output_type": "display_data"
    },
    {
     "data": {
      "text/plain": [
       "float"
      ]
     },
     "metadata": {},
     "output_type": "display_data"
    }
   ],
   "source": [
    "display (a, type(a), b, type(b), c, type(c))"
   ]
  },
  {
   "cell_type": "code",
   "execution_count": 13,
   "metadata": {
    "execution": {
     "iopub.execute_input": "2025-06-09T17:31:16.226510Z",
     "iopub.status.busy": "2025-06-09T17:31:16.225741Z",
     "iopub.status.idle": "2025-06-09T17:31:16.231996Z",
     "shell.execute_reply": "2025-06-09T17:31:16.230758Z",
     "shell.execute_reply.started": "2025-06-09T17:31:16.226486Z"
    }
   },
   "outputs": [
    {
     "name": "stdout",
     "output_type": "stream",
     "text": [
      "48 <class 'int'> 3 <class 'int'> 16.0 <class 'float'>\n"
     ]
    }
   ],
   "source": [
    "print (a, type(a), b, type(b), c, type(c))"
   ]
  },
  {
   "cell_type": "markdown",
   "metadata": {
    "id": "XcmIZ24wq4px"
   },
   "source": [
    "Створіть ще одну нову клітинку, тільки тепер вище цієї. Для цього натисніть  англійську літеру `A`, коли ви НЕ в режимі редагування клітинки. Виведіть в новоствореній клітинці значення і тип кожної зі змінних `a`, `b`, `c`. Проаналізуйте результат.\n"
   ]
  },
  {
   "cell_type": "markdown",
   "metadata": {
    "id": "v9rj7B4-sGaG"
   },
   "source": [
    "У Python, коли ви ділите одне ціле число на інше, результат буде автоматично приведений до типу float, якщо він не є цілим числом. Це робиться для того, щоб забезпечити більш точний результат ділення, особливо коли результат міг би бути десятковим числом."
   ]
  },
  {
   "cell_type": "markdown",
   "metadata": {
    "id": "irjcdM8puaEx"
   },
   "source": [
    "5. Перегляньте наступний код, подумайте, що він виведе в результаті, та потім, запустіть його."
   ]
  },
  {
   "cell_type": "code",
   "execution_count": 14,
   "metadata": {
    "execution": {
     "iopub.execute_input": "2025-06-09T17:32:00.012895Z",
     "iopub.status.busy": "2025-06-09T17:32:00.012580Z",
     "iopub.status.idle": "2025-06-09T17:32:00.019036Z",
     "shell.execute_reply": "2025-06-09T17:32:00.018027Z",
     "shell.execute_reply.started": "2025-06-09T17:32:00.012873Z"
    },
    "id": "KmhCY0ttt8rW"
   },
   "outputs": [
    {
     "data": {
      "text/plain": [
       "38"
      ]
     },
     "execution_count": 14,
     "metadata": {},
     "output_type": "execute_result"
    }
   ],
   "source": [
    "a = 10\n",
    "a = 12\n",
    "a = 15\n",
    "\n",
    "b = 4\n",
    "b = 8\n",
    "b = 14\n",
    "\n",
    "c = 3\n",
    "c = 6\n",
    "c = 9\n",
    "\n",
    "\n",
    "a + b + c"
   ]
  },
  {
   "cell_type": "markdown",
   "metadata": {
    "id": "JrUTyGyQufwq"
   },
   "source": [
    "В клітинці нижче закоментуйте деякі рядки так, аби в результаті виконання останнього рядка коду (`a + b + c`) вивелось `17`.\n",
    "Увага! Рядки треба саме закоментувати, а не видалити.\n",
    "Можна зручно коментувати рядки з допомогою комбінації клавіш `Ctrl + /` (`Command + /` для Mac)"
   ]
  },
  {
   "cell_type": "code",
   "execution_count": 15,
   "metadata": {
    "execution": {
     "iopub.execute_input": "2025-06-09T17:34:31.073388Z",
     "iopub.status.busy": "2025-06-09T17:34:31.073139Z",
     "iopub.status.idle": "2025-06-09T17:34:31.079162Z",
     "shell.execute_reply": "2025-06-09T17:34:31.078192Z",
     "shell.execute_reply.started": "2025-06-09T17:34:31.073370Z"
    },
    "id": "R4VXgSQKwVoc"
   },
   "outputs": [
    {
     "data": {
      "text/plain": [
       "17"
      ]
     },
     "execution_count": 15,
     "metadata": {},
     "output_type": "execute_result"
    }
   ],
   "source": [
    "a = 10\n",
    "# a = 12\n",
    "# a = 15\n",
    "\n",
    "b = 4\n",
    "# b = 8\n",
    "# b = 14\n",
    "\n",
    "c = 3\n",
    "# c = 6\n",
    "# c = 9\n",
    "\n",
    "\n",
    "a + b + c"
   ]
  },
  {
   "cell_type": "code",
   "execution_count": 27,
   "metadata": {
    "execution": {
     "iopub.execute_input": "2025-06-09T17:38:23.517370Z",
     "iopub.status.busy": "2025-06-09T17:38:23.517067Z",
     "iopub.status.idle": "2025-06-09T17:38:23.521665Z",
     "shell.execute_reply": "2025-06-09T17:38:23.520887Z",
     "shell.execute_reply.started": "2025-06-09T17:38:23.517352Z"
    }
   },
   "outputs": [
    {
     "name": "stdout",
     "output_type": "stream",
     "text": [
      "Дякую за нові знання і круто поданий матеріал! \n",
      "Бажаю чудового дня!\n",
      "І легкої перевірки усіх домашек!\n"
     ]
    }
   ],
   "source": [
    "print ('Дякую за нові знання і круто поданий матеріал! \\nБажаю чудового дня!\\nІ легкої перевірки усіх домашек!')"
   ]
  },
  {
   "cell_type": "code",
   "execution_count": null,
   "metadata": {},
   "outputs": [],
   "source": []
  }
 ],
 "metadata": {
  "colab": {
   "provenance": []
  },
  "kernelspec": {
   "display_name": "Python 3 (ipykernel)",
   "language": "python",
   "name": "python3"
  },
  "language_info": {
   "codemirror_mode": {
    "name": "ipython",
    "version": 3
   },
   "file_extension": ".py",
   "mimetype": "text/x-python",
   "name": "python",
   "nbconvert_exporter": "python",
   "pygments_lexer": "ipython3",
   "version": "3.13.4"
  }
 },
 "nbformat": 4,
 "nbformat_minor": 4
}
